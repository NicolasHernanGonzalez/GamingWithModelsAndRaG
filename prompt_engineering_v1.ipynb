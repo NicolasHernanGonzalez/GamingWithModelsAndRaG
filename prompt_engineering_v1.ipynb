{
  "cells": [
    {
      "cell_type": "markdown",
      "metadata": {
        "id": "view-in-github",
        "colab_type": "text"
      },
      "source": [
        "<a href=\"https://colab.research.google.com/github/NicolasHernanGonzalez/GamingWithModelsAndRaG/blob/main/prompt_engineering_v1.ipynb\" target=\"_parent\"><img src=\"https://colab.research.google.com/assets/colab-badge.svg\" alt=\"Open In Colab\"/></a>"
      ]
    },
    {
      "cell_type": "markdown",
      "metadata": {
        "id": "9634585d-bd2d-46ac-aed7-9420b20e0a54"
      },
      "source": [
        "<p style=\"text-align:center\">\n",
        "    <a href=\"https://skills.network\" target=\"_blank\">\n",
        "    <img src=\"https://cf-courses-data.s3.us.cloud-object-storage.appdomain.cloud/assets/logos/SN_web_lightmode.png\" width=\"200\" alt=\"Skills Network Logo\"  />\n",
        "    </a>\n",
        "</p>\n"
      ]
    },
    {
      "cell_type": "markdown",
      "metadata": {
        "id": "68d40459-635a-46a2-ae24-60e886dd509b"
      },
      "source": [
        "# **In-Context Engineering and Prompt Templates**\n"
      ]
    },
    {
      "cell_type": "markdown",
      "metadata": {
        "id": "671918e8-5415-430f-b023-52bf47f947d3"
      },
      "source": [
        "Estimated time needed: **30** minutes\n"
      ]
    },
    {
      "cell_type": "markdown",
      "metadata": {
        "id": "fbc8b5fe-21c1-42c4-866d-0e77032d5001"
      },
      "source": [
        "## Overview\n"
      ]
    },
    {
      "cell_type": "markdown",
      "metadata": {
        "id": "293395ed-53d7-4649-855e-0a79f09c506e"
      },
      "source": [
        "You're stepping into the world of prompt engineering, where each command you craft has the power to guide intelligent LLM systems toward specific outcomes. In this tutorial, you will explore the foundational aspects of prompt engineering, dive into advanced techniques of in-context learning, such as few-shot and self-consistent learning, and learn how to effectively use tools like Langchain.\n",
        "\n",
        "Start by understanding the basics—how to formulate prompts that communicate effectively with AI. From there, we'll explore how the Langchain prompt template can simplify and enhance this process, making it more structured and efficient.\n",
        "\n",
        "As you progress, you'll learn to apply these skills in practical scenarios, creating sophisticated applications like QA bots and text summarization tools. By using the Langchain prompt template, you'll see firsthand how structured prompting can streamline the development of these applications, transforming complex requirements into clear, concise tasks for AI.\n"
      ]
    },
    {
      "cell_type": "markdown",
      "metadata": {
        "id": "fae8a494-4815-4cab-b805-1b8d544fdae5"
      },
      "source": [
        "<img src=\"https://cf-courses-data.s3.us.cloud-object-storage.appdomain.cloud/ai8G4tOU4mksEYfv5wsghA/prompt%20engineering.png\" width=\"50%\" alt=\"indexing\"/>\n"
      ]
    },
    {
      "cell_type": "markdown",
      "metadata": {
        "id": "fbe410d4-c898-4bdd-be30-ced0571f29a9"
      },
      "source": [
        "By the end of this tutorial, you'll not only master the different techniques of prompt engineering but also acquire hands-on experience in applying these techniques to real-world problems, ensuring you're well-prepared to harness the full potential of AI in various settings.\n"
      ]
    },
    {
      "cell_type": "markdown",
      "metadata": {
        "id": "6e06a6b2-0fb2-4d2c-8893-19192ba59e66"
      },
      "source": [
        "## __Table of Contents__\n",
        "\n",
        "<ol>\n",
        "    <li><a href=\"#Objectives\">Objectives</a></li>\n",
        "    <li>\n",
        "        <a href=\"#Setup\">Setup</a>\n",
        "        <ol>\n",
        "            <li><a href=\"#Installing-required-libraries\">Installing required libraries</a></li>\n",
        "            <li><a href=\"#Importing-required-libraries\">Importing required libraries</a></li>\n",
        "            <li><a href=\"#Setup-LLM\">Setup LLM</a></li>\n",
        "        </ol>\n",
        "    </li>\n",
        "    <li>\n",
        "        <a href=\"#Prompt-engineering\">Prompt engineering</a>\n",
        "        <ol>\n",
        "            <li><a href=\"#First-basic-prompt\">First basic prompt</a></li>\n",
        "            <li><a href=\"#Zero-shot-prompt\">Zero-shot prompt</a></li>\n",
        "            <li><a href=\"#One-shot-prompt\">One-shot prompt</a></li>\n",
        "            <li><a href=\"#Few-shot-prompt\">Few-shot prompt</a></li>\n",
        "            <li><a href=\"#Chain-of-thought-(CoT)-prompting\">Chain-of-thought (CoT) prompting</a></li>\n",
        "            <li><a href=\"#Self-consistency\">Self-consistency</a></li>\n",
        "        </ol>\n",
        "    </li>\n",
        "    <li>\n",
        "        <a href=\"#Applications\">Applications</a>\n",
        "        <ol>\n",
        "            <li><a href=\"#Prompt-template\">Prompt template</a></li>\n",
        "            <li><a href=\"#Text-summarization\">Text summarization</a></li>\n",
        "            <li><a href=\"#Question-answering\">Question answering</a></li>\n",
        "            <li><a href=\"#Text-classification\">Text classification</a></li>\n",
        "            <li><a href=\"#Code-generation\">Code generation</a></li>\n",
        "            <li><a href=\"#Role-playing\">Role playing</a></li>\n",
        "        </ol>\n",
        "    </li>\n",
        "</ol>\n",
        "\n",
        "<a href=\"#Exercises\">Exercises</a>\n",
        "<ol>\n",
        "    <li><a href=\"#Exercise-1:-Change-parameters-for-the-LLM\">Exercise 1: Change parameters for the LLM</a></li>\n",
        "    <li><a href=\"#Exercise-2:-Observe-how-LLM-thinks\">Exercise 2: Observe how LLM thinks</a></li>\n",
        "    <li><a href=\"#Exercise-3:-Revise-the-text-classification-agent-to-one-shot-learning\">Exercise 3: Revise the text classification agent to one-shot learning</a></li>\n",
        "</ol>\n"
      ]
    },
    {
      "cell_type": "markdown",
      "metadata": {
        "id": "25fd114b-8779-4b5f-aa16-b8606b858d77"
      },
      "source": [
        "## Objectives\n",
        "\n",
        "After completing this lab, you will be able to:\n",
        "\n",
        "- **Understand the basics of prompt engineering**: Gain a solid foundation in how to effectively communicate with LLM using prompts, setting the stage for more advanced techniques.\n",
        "\n",
        "- **Master advanced prompt techniques**: Learn and apply advanced prompt engineering techniques such as few-shot and self-consistent learning to optimize the LLM's response.\n",
        "\n",
        "- **Utilize LangChain prompt template**: Become proficient in using LangChain's prompt template to structure and optimize your interactions with LLM.\n",
        "\n",
        "- **Develop practical LLM agents**: Acquire the skills to create and implement agents such as QA bots and text summarization using the Langchain prompt template, translating theoretical knowledge into practical solutions.\n"
      ]
    },
    {
      "cell_type": "markdown",
      "metadata": {
        "id": "f4f0f342-8d15-4cf3-8386-7998f889a0d0"
      },
      "source": [
        "----\n"
      ]
    },
    {
      "cell_type": "markdown",
      "metadata": {
        "id": "fac22a01-9328-4231-a2c1-55065d095e12"
      },
      "source": [
        "## Setup\n"
      ]
    },
    {
      "cell_type": "markdown",
      "metadata": {
        "id": "076c9af8-ebcd-4d01-9731-c6b3093976c0"
      },
      "source": [
        "For this lab, you will be using the following libraries:\n",
        "\n",
        "*   [`ibm-watsonx-ai`](https://ibm.github.io/watson-machine-learning-sdk/index.html) for using LLMs from IBM's watsonx.ai.\n",
        "*   [`langchain`](https://www.langchain.com/) for using langchain's different chain and prompt functions.\n",
        "*   [`langchain-ibm`](https://python.langchain.com/v0.1/docs/integrations/llms/ibm_watsonx/) provides integration between langchain and ibm-watsonx-ai.\n"
      ]
    },
    {
      "cell_type": "markdown",
      "metadata": {
        "id": "56797ab7-dc97-4b08-a231-1c1d3804ee30"
      },
      "source": [
        "### Installing required libraries\n",
        "\n",
        "The following required libraries are __not__ preinstalled in the Skills Network Labs environment. __You must run the following cell__ to install them:\n",
        "\n",
        "**Note:** The version has been pinned here to specify the version. It's recommended that you do this as well. Even though the library will be updated in the future, the library could still support this lab work.\n",
        "\n",
        "This might take approximately 1-2 minutes.\n",
        "\n",
        "`%%capture` has been used to capture the installation, you won't see the output process. But once the installation is done, you will see a number beside the cell.\n",
        "\n",
        "***Note : After installing please ensure that you restart the kernel and execute the subsequent cells.***\n"
      ]
    },
    {
      "cell_type": "code",
      "metadata": {
        "id": "706a6506-ab12-47f1-84f1-aa83e1707575"
      },
      "outputs": [],
      "source": [
        "%%capture\n",
        "!pip install --user \"ibm-watsonx-ai==0.2.6\"\n",
        "!pip install --user \"langchain==0.1.16\"\n",
        "!pip install --user \"langchain-ibm==0.1.4\"\n",
        "!pip install ibm-watsonx-ai"
      ],
      "execution_count": 35
    },
    {
      "cell_type": "markdown",
      "metadata": {
        "id": "fa7c26ea-ecb9-4756-a125-554a0662843c"
      },
      "source": [
        "### Importing required libraries\n",
        "\n",
        "_It is recommended that you import all required libraries in one place (here):_\n"
      ]
    },
    {
      "cell_type": "code",
      "source": [
        "import sys\n",
        "!{sys.executable} -m pip install ibm-watsonx-ai\n",
        "!pip show ibm-watsonx-ai"
      ],
      "metadata": {
        "colab": {
          "base_uri": "https://localhost:8080/"
        },
        "collapsed": true,
        "id": "6VPkzDM1xnkV",
        "outputId": "b7ecb4d6-e071-4f8d-9b99-846cef5de1bc"
      },
      "execution_count": 36,
      "outputs": [
        {
          "output_type": "stream",
          "name": "stdout",
          "text": [
            "Requirement already satisfied: ibm-watsonx-ai in /root/.local/lib/python3.11/site-packages (0.2.6)\n",
            "Requirement already satisfied: ibm-watson-machine-learning>=1.0.349 in /root/.local/lib/python3.11/site-packages (from ibm-watsonx-ai) (1.0.367)\n",
            "Requirement already satisfied: requests in /root/.local/lib/python3.11/site-packages (from ibm-watson-machine-learning>=1.0.349->ibm-watsonx-ai) (2.32.2)\n",
            "Requirement already satisfied: urllib3 in /usr/local/lib/python3.11/dist-packages (from ibm-watson-machine-learning>=1.0.349->ibm-watsonx-ai) (2.4.0)\n",
            "Requirement already satisfied: pandas<2.2.0,>=0.24.2 in /root/.local/lib/python3.11/site-packages (from ibm-watson-machine-learning>=1.0.349->ibm-watsonx-ai) (2.1.4)\n",
            "Requirement already satisfied: certifi in /usr/local/lib/python3.11/dist-packages (from ibm-watson-machine-learning>=1.0.349->ibm-watsonx-ai) (2025.4.26)\n",
            "Requirement already satisfied: lomond in /root/.local/lib/python3.11/site-packages (from ibm-watson-machine-learning>=1.0.349->ibm-watsonx-ai) (0.3.3)\n",
            "Requirement already satisfied: tabulate in /usr/local/lib/python3.11/dist-packages (from ibm-watson-machine-learning>=1.0.349->ibm-watsonx-ai) (0.9.0)\n",
            "Requirement already satisfied: packaging in /root/.local/lib/python3.11/site-packages (from ibm-watson-machine-learning>=1.0.349->ibm-watsonx-ai) (23.2)\n",
            "Requirement already satisfied: ibm-cos-sdk<2.14.0,>=2.12.0 in /root/.local/lib/python3.11/site-packages (from ibm-watson-machine-learning>=1.0.349->ibm-watsonx-ai) (2.13.6)\n",
            "Requirement already satisfied: importlib-metadata in /usr/local/lib/python3.11/dist-packages (from ibm-watson-machine-learning>=1.0.349->ibm-watsonx-ai) (8.7.0)\n",
            "Requirement already satisfied: ibm-cos-sdk-core==2.13.6 in /root/.local/lib/python3.11/site-packages (from ibm-cos-sdk<2.14.0,>=2.12.0->ibm-watson-machine-learning>=1.0.349->ibm-watsonx-ai) (2.13.6)\n",
            "Requirement already satisfied: ibm-cos-sdk-s3transfer==2.13.6 in /root/.local/lib/python3.11/site-packages (from ibm-cos-sdk<2.14.0,>=2.12.0->ibm-watson-machine-learning>=1.0.349->ibm-watsonx-ai) (2.13.6)\n",
            "Requirement already satisfied: jmespath<=1.0.1,>=0.10.0 in /root/.local/lib/python3.11/site-packages (from ibm-cos-sdk<2.14.0,>=2.12.0->ibm-watson-machine-learning>=1.0.349->ibm-watsonx-ai) (1.0.1)\n",
            "Requirement already satisfied: python-dateutil<3.0.0,>=2.9.0 in /usr/local/lib/python3.11/dist-packages (from ibm-cos-sdk-core==2.13.6->ibm-cos-sdk<2.14.0,>=2.12.0->ibm-watson-machine-learning>=1.0.349->ibm-watsonx-ai) (2.9.0.post0)\n",
            "Requirement already satisfied: numpy<2,>=1.23.2 in /root/.local/lib/python3.11/site-packages (from pandas<2.2.0,>=0.24.2->ibm-watson-machine-learning>=1.0.349->ibm-watsonx-ai) (1.26.4)\n",
            "Requirement already satisfied: pytz>=2020.1 in /usr/local/lib/python3.11/dist-packages (from pandas<2.2.0,>=0.24.2->ibm-watson-machine-learning>=1.0.349->ibm-watsonx-ai) (2025.2)\n",
            "Requirement already satisfied: tzdata>=2022.1 in /usr/local/lib/python3.11/dist-packages (from pandas<2.2.0,>=0.24.2->ibm-watson-machine-learning>=1.0.349->ibm-watsonx-ai) (2025.2)\n",
            "Requirement already satisfied: charset-normalizer<4,>=2 in /usr/local/lib/python3.11/dist-packages (from requests->ibm-watson-machine-learning>=1.0.349->ibm-watsonx-ai) (3.4.2)\n",
            "Requirement already satisfied: idna<4,>=2.5 in /usr/local/lib/python3.11/dist-packages (from requests->ibm-watson-machine-learning>=1.0.349->ibm-watsonx-ai) (3.10)\n",
            "Requirement already satisfied: zipp>=3.20 in /usr/local/lib/python3.11/dist-packages (from importlib-metadata->ibm-watson-machine-learning>=1.0.349->ibm-watsonx-ai) (3.21.0)\n",
            "Requirement already satisfied: six>=1.10.0 in /usr/local/lib/python3.11/dist-packages (from lomond->ibm-watson-machine-learning>=1.0.349->ibm-watsonx-ai) (1.17.0)\n",
            "Name: ibm_watsonx_ai\n",
            "Version: 0.2.6\n",
            "Summary: IBM watsonx.ai API Client\n",
            "Home-page: https://ibm.github.io/watsonx-ai-python-sdk\n",
            "Author: IBM\n",
            "Author-email: lukasz.cmielowski@pl.ibm.com, dorota.laczak@ibm.com\n",
            "License: BSD-3-Clause\n",
            "Location: /root/.local/lib/python3.11/site-packages\n",
            "Requires: ibm-watson-machine-learning\n",
            "Required-by: langchain-ibm\n"
          ]
        }
      ]
    },
    {
      "cell_type": "code",
      "metadata": {
        "id": "f855884d-a10d-423a-9573-850e22d18467"
      },
      "outputs": [],
      "source": [
        "# You can also use this section to suppress warnings generated by your code:\n",
        "def warn(*args, **kwargs):\n",
        "    pass\n",
        "import warnings\n",
        "warnings.warn = warn\n",
        "warnings.filterwarnings('ignore')\n",
        "\n",
        "from ibm_watsonx_ai.foundation_models import Model\n",
        "from ibm_watsonx_ai.metanames import GenTextParamsMetaNames as GenParams\n",
        "from ibm_watsonx_ai.foundation_models.utils.enums import ModelTypes\n",
        "from ibm_watson_machine_learning.foundation_models.extensions.langchain import WatsonxLLM\n",
        "from langchain_core.prompts import PromptTemplate\n",
        "from langchain.chains import LLMChain"
      ],
      "execution_count": 37
    },
    {
      "cell_type": "markdown",
      "metadata": {
        "id": "c22c9933-e5fd-47fd-bc05-c14a8e8881a0"
      },
      "source": [
        "### Setup LLM\n"
      ]
    },
    {
      "cell_type": "markdown",
      "metadata": {
        "id": "59954795-f1fd-4e51-88cf-319ca0968a3f"
      },
      "source": [
        "In this section, you will build an LLM model from IBM watsonx.ai.\n",
        "\n",
        "The following code initializes a Mixtral model on IBM's watsonx.ai platform and wraps it into a function that could allow repeat use.\n"
      ]
    },
    {
      "cell_type": "markdown",
      "metadata": {
        "id": "9dcc7dd3-abe2-4874-8187-96e433242337"
      },
      "source": [
        "Some key parameters are explained here:\n",
        "- `model_id` specifies which model you want to use. There are various model options available; refer to the [Foundation Models](https://ibm.github.io/watsonx-ai-python-sdk/foundation_models.html) documentation for more options. In this tutorial, you'll use the `mixtral-8x7b-instruct-v01` model.\n",
        "- `parameters` define the model's configuration. Set five commonly used parameters for this tutorial. To explore additional commonly used parameters, you can run the code `GenParams().get_example_values()` to see. If no custom parameters are passed to the function, the model will use `default_params`.\n",
        "- `credentials` and `project_id` are necessary parameters to successfully run LLMs from watsonx.ai. (Keep `credentials` and `project_id` as they are now so that you do not need to create your own keys to run models. This supports you in running the model inside this lab environment. However, if you want to run the model locally, refer to this [tutorial](https://medium.com/the-power-of-ai/ibm-watsonx-ai-the-interface-and-api-e8e1c7227358) for creating your own keys.\n",
        "- `Model()` is used to wrap the parameters for the model and then call it with `WatsonxLLM()`.\n"
      ]
    },
    {
      "cell_type": "markdown",
      "metadata": {
        "id": "46a184ca-ba47-4f66-9d03-5cc7a0691435"
      },
      "source": [
        "Run the following code, you will initialize a LLM model.\n"
      ]
    },
    {
      "cell_type": "code",
      "metadata": {
        "id": "054976d2-9fff-4de7-b838-67d852c0e939"
      },
      "outputs": [],
      "source": [
        "def llm_model(prompt_txt, params=None):\n",
        "    model_id = 'mistralai/mixtral-8x7b-instruct-v01'\n",
        "\n",
        "    default_params = {\n",
        "        \"max_new_tokens\": 256,\n",
        "        \"min_new_tokens\": 0,\n",
        "        \"temperature\": 0.5,\n",
        "        \"top_p\": 0.2,\n",
        "        \"top_k\": 1\n",
        "    }\n",
        "\n",
        "    if params:\n",
        "        default_params.update(params)\n",
        "\n",
        "    parameters = {\n",
        "        GenParams.MAX_NEW_TOKENS: default_params[\"max_new_tokens\"],  # this controls the maximum number of tokens in the generated output\n",
        "        GenParams.MIN_NEW_TOKENS: default_params[\"min_new_tokens\"], # this controls the minimum number of tokens in the generated output\n",
        "        GenParams.TEMPERATURE: default_params[\"temperature\"], # this randomness or creativity of the model's responses\n",
        "        GenParams.TOP_P: default_params[\"top_p\"],\n",
        "        GenParams.TOP_K: default_params[\"top_k\"]\n",
        "    }\n",
        "\n",
        "\n",
        "\n",
        "    watsonx_API = \"5Rc8ZtpGrToLW-KwzTh1IZeUPxYsBuz54DdCbvA7XQ9T\"\n",
        "    #project_id= \"0blahblah-000-9999-blah-99bla0hblah0\"\n",
        "    project_id=\"ee110de8-1105-4700-8ed2-857cf6ac17ec\"\n",
        "\n",
        "    credentials={\n",
        "        \"apikey\": watsonx_API,\n",
        "        \"url\": \"https://us-south.ml.cloud.ibm.com\"\n",
        "    }\n",
        "\n",
        "    #project_id = \"skills-network\"\n",
        "\n",
        "    model = Model(\n",
        "        model_id=model_id,\n",
        "        params=parameters,\n",
        "        credentials=credentials,\n",
        "        project_id=project_id\n",
        "    )\n",
        "\n",
        "    mixtral_llm = WatsonxLLM(model=model)\n",
        "    response  = mixtral_llm.invoke(prompt_txt)\n",
        "    return response"
      ],
      "execution_count": 38
    },
    {
      "cell_type": "markdown",
      "metadata": {
        "id": "7c2e3207-1ce3-4fd9-920f-4584c405a89c"
      },
      "source": [
        "Let's run the following code to see some other commonly used parameters and their default value.\n"
      ]
    },
    {
      "cell_type": "code",
      "metadata": {
        "colab": {
          "base_uri": "https://localhost:8080/"
        },
        "id": "9dcb28c4-041c-456e-b622-502900fe22bb",
        "outputId": "d1b224b7-0706-4262-8ba5-7d89409855fc"
      },
      "outputs": [
        {
          "output_type": "execute_result",
          "data": {
            "text/plain": [
              "{'decoding_method': 'sample',\n",
              " 'length_penalty': {'decay_factor': 2.5, 'start_index': 5},\n",
              " 'temperature': 0.5,\n",
              " 'top_p': 0.2,\n",
              " 'top_k': 1,\n",
              " 'random_seed': 33,\n",
              " 'repetition_penalty': 2,\n",
              " 'min_new_tokens': 50,\n",
              " 'max_new_tokens': 200,\n",
              " 'stop_sequences': ['fail'],\n",
              " ' time_limit': 600000,\n",
              " 'truncate_input_tokens': 200,\n",
              " 'return_options': {'input_text': True,\n",
              "  'generated_tokens': True,\n",
              "  'input_tokens': True,\n",
              "  'token_logprobs': True,\n",
              "  'token_ranks': False,\n",
              "  'top_n_tokens': False}}"
            ]
          },
          "metadata": {},
          "execution_count": 39
        }
      ],
      "source": [
        "GenParams().get_example_values()"
      ],
      "execution_count": 39
    },
    {
      "cell_type": "markdown",
      "metadata": {
        "id": "b13bda73-68c0-4e94-b945-3dd02261b593"
      },
      "source": [
        "## Prompt engineering\n"
      ]
    },
    {
      "cell_type": "markdown",
      "metadata": {
        "id": "42804af5-c62f-428f-ba81-05c9fa67c2b7"
      },
      "source": [
        "### First basic prompt\n"
      ]
    },
    {
      "cell_type": "markdown",
      "metadata": {
        "id": "018e53f5-3a5e-41fd-869c-d079deefed10"
      },
      "source": [
        "In this example, let's introduce a basic prompt that utilizes specific parameters to guide the language model's response. You'll then define a simple prompt and retrieve the model's response,\n",
        "\n",
        "The prompt used is \"The wind is\". Let the model generate itself.\n"
      ]
    },
    {
      "cell_type": "code",
      "metadata": {
        "colab": {
          "base_uri": "https://localhost:8080/",
          "height": 563
        },
        "id": "f7aa5fa5-82e1-4b60-92d7-419b8010232a",
        "outputId": "535b1536-4ee3-4105-b64c-6c9421854e32"
      },
      "outputs": [
        {
          "output_type": "stream",
          "name": "stderr",
          "text": [
            "WARNING:ibm_watson_machine_learning.wml_client_error:Failure during generate. (POST https://us-south.ml.cloud.ibm.com/ml/v1/text/generation?version=2024-10-28)\n",
            "Status code: 429, body: {\"errors\":[{\"code\":\"consumption_limit_reached\",\"message\":\"The usage limit for the current plan has been reached: the total number of free concurrent requests for model mistralai/mixtral-8x7b-instruct-v01 has reached its limit 10. Please try again later\",\"more_info\":\"https://cloud.ibm.com/apidocs/watsonx-ai#text-generation\"}],\"trace\":\"c8d658be1b65fc618be0f02e53d10cfc\",\"status_code\":429}\n"
          ]
        },
        {
          "output_type": "error",
          "ename": "ApiRequestFailure",
          "evalue": "Failure during generate. (POST https://us-south.ml.cloud.ibm.com/ml/v1/text/generation?version=2024-10-28)\nStatus code: 429, body: {\"errors\":[{\"code\":\"consumption_limit_reached\",\"message\":\"The usage limit for the current plan has been reached: the total number of free concurrent requests for model mistralai/mixtral-8x7b-instruct-v01 has reached its limit 10. Please try again later\",\"more_info\":\"https://cloud.ibm.com/apidocs/watsonx-ai#text-generation\"}],\"trace\":\"c8d658be1b65fc618be0f02e53d10cfc\",\"status_code\":429}",
          "traceback": [
            "\u001b[0;31m---------------------------------------------------------------------------\u001b[0m",
            "\u001b[0;31mApiRequestFailure\u001b[0m                         Traceback (most recent call last)",
            "\u001b[0;32m<ipython-input-40-6391da2ab394>\u001b[0m in \u001b[0;36m<cell line: 0>\u001b[0;34m()\u001b[0m\n\u001b[1;32m      9\u001b[0m \u001b[0mprompt\u001b[0m \u001b[0;34m=\u001b[0m \u001b[0;34m\"The wind is in montevideo\"\u001b[0m\u001b[0;34m\u001b[0m\u001b[0;34m\u001b[0m\u001b[0m\n\u001b[1;32m     10\u001b[0m \u001b[0;34m\u001b[0m\u001b[0m\n\u001b[0;32m---> 11\u001b[0;31m \u001b[0mresponse\u001b[0m \u001b[0;34m=\u001b[0m \u001b[0mllm_model\u001b[0m\u001b[0;34m(\u001b[0m\u001b[0mprompt\u001b[0m\u001b[0;34m,\u001b[0m \u001b[0mparams\u001b[0m\u001b[0;34m)\u001b[0m\u001b[0;34m\u001b[0m\u001b[0;34m\u001b[0m\u001b[0m\n\u001b[0m\u001b[1;32m     12\u001b[0m \u001b[0mprint\u001b[0m\u001b[0;34m(\u001b[0m\u001b[0;34mf\"prompt: {prompt}\\n\"\u001b[0m\u001b[0;34m)\u001b[0m\u001b[0;34m\u001b[0m\u001b[0;34m\u001b[0m\u001b[0m\n\u001b[1;32m     13\u001b[0m \u001b[0mprint\u001b[0m\u001b[0;34m(\u001b[0m\u001b[0;34mf\"response : {response}\\n\"\u001b[0m\u001b[0;34m)\u001b[0m\u001b[0;34m\u001b[0m\u001b[0;34m\u001b[0m\u001b[0m\n",
            "\u001b[0;32m<ipython-input-38-40f818e5084b>\u001b[0m in \u001b[0;36mllm_model\u001b[0;34m(prompt_txt, params)\u001b[0m\n\u001b[1;32m     42\u001b[0m \u001b[0;34m\u001b[0m\u001b[0m\n\u001b[1;32m     43\u001b[0m     \u001b[0mmixtral_llm\u001b[0m \u001b[0;34m=\u001b[0m \u001b[0mWatsonxLLM\u001b[0m\u001b[0;34m(\u001b[0m\u001b[0mmodel\u001b[0m\u001b[0;34m=\u001b[0m\u001b[0mmodel\u001b[0m\u001b[0;34m)\u001b[0m\u001b[0;34m\u001b[0m\u001b[0;34m\u001b[0m\u001b[0m\n\u001b[0;32m---> 44\u001b[0;31m     \u001b[0mresponse\u001b[0m  \u001b[0;34m=\u001b[0m \u001b[0mmixtral_llm\u001b[0m\u001b[0;34m.\u001b[0m\u001b[0minvoke\u001b[0m\u001b[0;34m(\u001b[0m\u001b[0mprompt_txt\u001b[0m\u001b[0;34m)\u001b[0m\u001b[0;34m\u001b[0m\u001b[0;34m\u001b[0m\u001b[0m\n\u001b[0m\u001b[1;32m     45\u001b[0m     \u001b[0;32mreturn\u001b[0m \u001b[0mresponse\u001b[0m\u001b[0;34m\u001b[0m\u001b[0;34m\u001b[0m\u001b[0m\n",
            "\u001b[0;32m~/.local/lib/python3.11/site-packages/langchain_core/language_models/llms.py\u001b[0m in \u001b[0;36minvoke\u001b[0;34m(self, input, config, stop, **kwargs)\u001b[0m\n\u001b[1;32m    274\u001b[0m         \u001b[0mconfig\u001b[0m \u001b[0;34m=\u001b[0m \u001b[0mensure_config\u001b[0m\u001b[0;34m(\u001b[0m\u001b[0mconfig\u001b[0m\u001b[0;34m)\u001b[0m\u001b[0;34m\u001b[0m\u001b[0;34m\u001b[0m\u001b[0m\n\u001b[1;32m    275\u001b[0m         return (\n\u001b[0;32m--> 276\u001b[0;31m             self.generate_prompt(\n\u001b[0m\u001b[1;32m    277\u001b[0m                 \u001b[0;34m[\u001b[0m\u001b[0mself\u001b[0m\u001b[0;34m.\u001b[0m\u001b[0m_convert_input\u001b[0m\u001b[0;34m(\u001b[0m\u001b[0minput\u001b[0m\u001b[0;34m)\u001b[0m\u001b[0;34m]\u001b[0m\u001b[0;34m,\u001b[0m\u001b[0;34m\u001b[0m\u001b[0;34m\u001b[0m\u001b[0m\n\u001b[1;32m    278\u001b[0m                 \u001b[0mstop\u001b[0m\u001b[0;34m=\u001b[0m\u001b[0mstop\u001b[0m\u001b[0;34m,\u001b[0m\u001b[0;34m\u001b[0m\u001b[0;34m\u001b[0m\u001b[0m\n",
            "\u001b[0;32m~/.local/lib/python3.11/site-packages/langchain_core/language_models/llms.py\u001b[0m in \u001b[0;36mgenerate_prompt\u001b[0;34m(self, prompts, stop, callbacks, **kwargs)\u001b[0m\n\u001b[1;32m    631\u001b[0m     ) -> LLMResult:\n\u001b[1;32m    632\u001b[0m         \u001b[0mprompt_strings\u001b[0m \u001b[0;34m=\u001b[0m \u001b[0;34m[\u001b[0m\u001b[0mp\u001b[0m\u001b[0;34m.\u001b[0m\u001b[0mto_string\u001b[0m\u001b[0;34m(\u001b[0m\u001b[0;34m)\u001b[0m \u001b[0;32mfor\u001b[0m \u001b[0mp\u001b[0m \u001b[0;32min\u001b[0m \u001b[0mprompts\u001b[0m\u001b[0;34m]\u001b[0m\u001b[0;34m\u001b[0m\u001b[0;34m\u001b[0m\u001b[0m\n\u001b[0;32m--> 633\u001b[0;31m         \u001b[0;32mreturn\u001b[0m \u001b[0mself\u001b[0m\u001b[0;34m.\u001b[0m\u001b[0mgenerate\u001b[0m\u001b[0;34m(\u001b[0m\u001b[0mprompt_strings\u001b[0m\u001b[0;34m,\u001b[0m \u001b[0mstop\u001b[0m\u001b[0;34m=\u001b[0m\u001b[0mstop\u001b[0m\u001b[0;34m,\u001b[0m \u001b[0mcallbacks\u001b[0m\u001b[0;34m=\u001b[0m\u001b[0mcallbacks\u001b[0m\u001b[0;34m,\u001b[0m \u001b[0;34m**\u001b[0m\u001b[0mkwargs\u001b[0m\u001b[0;34m)\u001b[0m\u001b[0;34m\u001b[0m\u001b[0;34m\u001b[0m\u001b[0m\n\u001b[0m\u001b[1;32m    634\u001b[0m \u001b[0;34m\u001b[0m\u001b[0m\n\u001b[1;32m    635\u001b[0m     async def agenerate_prompt(\n",
            "\u001b[0;32m~/.local/lib/python3.11/site-packages/langchain_core/language_models/llms.py\u001b[0m in \u001b[0;36mgenerate\u001b[0;34m(self, prompts, stop, callbacks, tags, metadata, run_name, run_id, **kwargs)\u001b[0m\n\u001b[1;32m    801\u001b[0m                 )\n\u001b[1;32m    802\u001b[0m             ]\n\u001b[0;32m--> 803\u001b[0;31m             output = self._generate_helper(\n\u001b[0m\u001b[1;32m    804\u001b[0m                 \u001b[0mprompts\u001b[0m\u001b[0;34m,\u001b[0m \u001b[0mstop\u001b[0m\u001b[0;34m,\u001b[0m \u001b[0mrun_managers\u001b[0m\u001b[0;34m,\u001b[0m \u001b[0mbool\u001b[0m\u001b[0;34m(\u001b[0m\u001b[0mnew_arg_supported\u001b[0m\u001b[0;34m)\u001b[0m\u001b[0;34m,\u001b[0m \u001b[0;34m**\u001b[0m\u001b[0mkwargs\u001b[0m\u001b[0;34m\u001b[0m\u001b[0;34m\u001b[0m\u001b[0m\n\u001b[1;32m    805\u001b[0m             )\n",
            "\u001b[0;32m~/.local/lib/python3.11/site-packages/langchain_core/language_models/llms.py\u001b[0m in \u001b[0;36m_generate_helper\u001b[0;34m(self, prompts, stop, run_managers, new_arg_supported, **kwargs)\u001b[0m\n\u001b[1;32m    668\u001b[0m             \u001b[0;32mfor\u001b[0m \u001b[0mrun_manager\u001b[0m \u001b[0;32min\u001b[0m \u001b[0mrun_managers\u001b[0m\u001b[0;34m:\u001b[0m\u001b[0;34m\u001b[0m\u001b[0;34m\u001b[0m\u001b[0m\n\u001b[1;32m    669\u001b[0m                 \u001b[0mrun_manager\u001b[0m\u001b[0;34m.\u001b[0m\u001b[0mon_llm_error\u001b[0m\u001b[0;34m(\u001b[0m\u001b[0me\u001b[0m\u001b[0;34m,\u001b[0m \u001b[0mresponse\u001b[0m\u001b[0;34m=\u001b[0m\u001b[0mLLMResult\u001b[0m\u001b[0;34m(\u001b[0m\u001b[0mgenerations\u001b[0m\u001b[0;34m=\u001b[0m\u001b[0;34m[\u001b[0m\u001b[0;34m]\u001b[0m\u001b[0;34m)\u001b[0m\u001b[0;34m)\u001b[0m\u001b[0;34m\u001b[0m\u001b[0;34m\u001b[0m\u001b[0m\n\u001b[0;32m--> 670\u001b[0;31m             \u001b[0;32mraise\u001b[0m \u001b[0me\u001b[0m\u001b[0;34m\u001b[0m\u001b[0;34m\u001b[0m\u001b[0m\n\u001b[0m\u001b[1;32m    671\u001b[0m         \u001b[0mflattened_outputs\u001b[0m \u001b[0;34m=\u001b[0m \u001b[0moutput\u001b[0m\u001b[0;34m.\u001b[0m\u001b[0mflatten\u001b[0m\u001b[0;34m(\u001b[0m\u001b[0;34m)\u001b[0m\u001b[0;34m\u001b[0m\u001b[0;34m\u001b[0m\u001b[0m\n\u001b[1;32m    672\u001b[0m         \u001b[0;32mfor\u001b[0m \u001b[0mmanager\u001b[0m\u001b[0;34m,\u001b[0m \u001b[0mflattened_output\u001b[0m \u001b[0;32min\u001b[0m \u001b[0mzip\u001b[0m\u001b[0;34m(\u001b[0m\u001b[0mrun_managers\u001b[0m\u001b[0;34m,\u001b[0m \u001b[0mflattened_outputs\u001b[0m\u001b[0;34m)\u001b[0m\u001b[0;34m:\u001b[0m\u001b[0;34m\u001b[0m\u001b[0;34m\u001b[0m\u001b[0m\n",
            "\u001b[0;32m~/.local/lib/python3.11/site-packages/langchain_core/language_models/llms.py\u001b[0m in \u001b[0;36m_generate_helper\u001b[0;34m(self, prompts, stop, run_managers, new_arg_supported, **kwargs)\u001b[0m\n\u001b[1;32m    655\u001b[0m         \u001b[0;32mtry\u001b[0m\u001b[0;34m:\u001b[0m\u001b[0;34m\u001b[0m\u001b[0;34m\u001b[0m\u001b[0m\n\u001b[1;32m    656\u001b[0m             output = (\n\u001b[0;32m--> 657\u001b[0;31m                 self._generate(\n\u001b[0m\u001b[1;32m    658\u001b[0m                     \u001b[0mprompts\u001b[0m\u001b[0;34m,\u001b[0m\u001b[0;34m\u001b[0m\u001b[0;34m\u001b[0m\u001b[0m\n\u001b[1;32m    659\u001b[0m                     \u001b[0mstop\u001b[0m\u001b[0;34m=\u001b[0m\u001b[0mstop\u001b[0m\u001b[0;34m,\u001b[0m\u001b[0;34m\u001b[0m\u001b[0;34m\u001b[0m\u001b[0m\n",
            "\u001b[0;32m~/.local/lib/python3.11/site-packages/langchain_core/language_models/llms.py\u001b[0m in \u001b[0;36m_generate\u001b[0;34m(self, prompts, stop, run_manager, **kwargs)\u001b[0m\n\u001b[1;32m   1317\u001b[0m                 \u001b[0mself\u001b[0m\u001b[0;34m.\u001b[0m\u001b[0m_call\u001b[0m\u001b[0;34m(\u001b[0m\u001b[0mprompt\u001b[0m\u001b[0;34m,\u001b[0m \u001b[0mstop\u001b[0m\u001b[0;34m=\u001b[0m\u001b[0mstop\u001b[0m\u001b[0;34m,\u001b[0m \u001b[0mrun_manager\u001b[0m\u001b[0;34m=\u001b[0m\u001b[0mrun_manager\u001b[0m\u001b[0;34m,\u001b[0m \u001b[0;34m**\u001b[0m\u001b[0mkwargs\u001b[0m\u001b[0;34m)\u001b[0m\u001b[0;34m\u001b[0m\u001b[0;34m\u001b[0m\u001b[0m\n\u001b[1;32m   1318\u001b[0m                 \u001b[0;32mif\u001b[0m \u001b[0mnew_arg_supported\u001b[0m\u001b[0;34m\u001b[0m\u001b[0;34m\u001b[0m\u001b[0m\n\u001b[0;32m-> 1319\u001b[0;31m                 \u001b[0;32melse\u001b[0m \u001b[0mself\u001b[0m\u001b[0;34m.\u001b[0m\u001b[0m_call\u001b[0m\u001b[0;34m(\u001b[0m\u001b[0mprompt\u001b[0m\u001b[0;34m,\u001b[0m \u001b[0mstop\u001b[0m\u001b[0;34m=\u001b[0m\u001b[0mstop\u001b[0m\u001b[0;34m,\u001b[0m \u001b[0;34m**\u001b[0m\u001b[0mkwargs\u001b[0m\u001b[0;34m)\u001b[0m\u001b[0;34m\u001b[0m\u001b[0;34m\u001b[0m\u001b[0m\n\u001b[0m\u001b[1;32m   1320\u001b[0m             )\n\u001b[1;32m   1321\u001b[0m             \u001b[0mgenerations\u001b[0m\u001b[0;34m.\u001b[0m\u001b[0mappend\u001b[0m\u001b[0;34m(\u001b[0m\u001b[0;34m[\u001b[0m\u001b[0mGeneration\u001b[0m\u001b[0;34m(\u001b[0m\u001b[0mtext\u001b[0m\u001b[0;34m=\u001b[0m\u001b[0mtext\u001b[0m\u001b[0;34m)\u001b[0m\u001b[0;34m]\u001b[0m\u001b[0;34m)\u001b[0m\u001b[0;34m\u001b[0m\u001b[0;34m\u001b[0m\u001b[0m\n",
            "\u001b[0;32m~/.local/lib/python3.11/site-packages/ibm_watson_machine_learning/foundation_models/extensions/langchain/llm.py\u001b[0m in \u001b[0;36m_call\u001b[0;34m(self, prompt, stop)\u001b[0m\n\u001b[1;32m     96\u001b[0m                 \u001b[0mresponse\u001b[0m \u001b[0;34m=\u001b[0m \u001b[0mllm\u001b[0m\u001b[0;34m(\u001b[0m\u001b[0;34m\"What is a molecule\"\u001b[0m\u001b[0;34m)\u001b[0m\u001b[0;34m\u001b[0m\u001b[0;34m\u001b[0m\u001b[0m\n\u001b[1;32m     97\u001b[0m         \"\"\"\n\u001b[0;32m---> 98\u001b[0;31m         \u001b[0mtext\u001b[0m \u001b[0;34m=\u001b[0m \u001b[0mself\u001b[0m\u001b[0;34m.\u001b[0m\u001b[0mmodel\u001b[0m\u001b[0;34m.\u001b[0m\u001b[0mgenerate_text\u001b[0m\u001b[0;34m(\u001b[0m\u001b[0mprompt\u001b[0m\u001b[0;34m=\u001b[0m\u001b[0mprompt\u001b[0m\u001b[0;34m)\u001b[0m\u001b[0;34m\u001b[0m\u001b[0;34m\u001b[0m\u001b[0m\n\u001b[0m\u001b[1;32m     99\u001b[0m         \u001b[0mlogger\u001b[0m\u001b[0;34m.\u001b[0m\u001b[0minfo\u001b[0m\u001b[0;34m(\u001b[0m\u001b[0;34m\"Output of watsonx.ai call: {}\"\u001b[0m\u001b[0;34m.\u001b[0m\u001b[0mformat\u001b[0m\u001b[0;34m(\u001b[0m\u001b[0mtext\u001b[0m\u001b[0;34m)\u001b[0m\u001b[0;34m)\u001b[0m\u001b[0;34m\u001b[0m\u001b[0;34m\u001b[0m\u001b[0m\n\u001b[1;32m    100\u001b[0m         \u001b[0;32mif\u001b[0m \u001b[0mstop\u001b[0m \u001b[0;32mis\u001b[0m \u001b[0;32mnot\u001b[0m \u001b[0;32mNone\u001b[0m\u001b[0;34m:\u001b[0m\u001b[0;34m\u001b[0m\u001b[0;34m\u001b[0m\u001b[0m\n",
            "\u001b[0;32m~/.local/lib/python3.11/site-packages/ibm_watsonx_ai/foundation_models/model.py\u001b[0m in \u001b[0;36mgenerate_text\u001b[0;34m(self, prompt, params, raw_response, guardrails, guardrails_hap_params, guardrails_pii_params, concurrency_limit)\u001b[0m\n\u001b[1;32m    237\u001b[0m \u001b[0;34m\u001b[0m\u001b[0m\n\u001b[1;32m    238\u001b[0m         \"\"\"\n\u001b[0;32m--> 239\u001b[0;31m         return super().generate_text(prompt=prompt,\n\u001b[0m\u001b[1;32m    240\u001b[0m                                      \u001b[0mparams\u001b[0m\u001b[0;34m=\u001b[0m\u001b[0mparams\u001b[0m\u001b[0;34m,\u001b[0m\u001b[0;34m\u001b[0m\u001b[0;34m\u001b[0m\u001b[0m\n\u001b[1;32m    241\u001b[0m                                      \u001b[0mraw_response\u001b[0m\u001b[0;34m=\u001b[0m\u001b[0mraw_response\u001b[0m\u001b[0;34m,\u001b[0m\u001b[0;34m\u001b[0m\u001b[0;34m\u001b[0m\u001b[0m\n",
            "\u001b[0;32m~/.local/lib/python3.11/site-packages/ibm_watsonx_ai/foundation_models/inference/model_inference.py\u001b[0m in \u001b[0;36mgenerate_text\u001b[0;34m(self, prompt, params, guardrails, guardrails_hap_params, guardrails_pii_params, raw_response, concurrency_limit)\u001b[0m\n\u001b[1;32m    288\u001b[0m \u001b[0;34m\u001b[0m\u001b[0m\n\u001b[1;32m    289\u001b[0m         \"\"\"\n\u001b[0;32m--> 290\u001b[0;31m         metadata = self.generate(prompt=prompt, params=params,\n\u001b[0m\u001b[1;32m    291\u001b[0m                                  \u001b[0mguardrails\u001b[0m\u001b[0;34m=\u001b[0m\u001b[0mguardrails\u001b[0m\u001b[0;34m,\u001b[0m\u001b[0;34m\u001b[0m\u001b[0;34m\u001b[0m\u001b[0m\n\u001b[1;32m    292\u001b[0m                                  \u001b[0mguardrails_hap_params\u001b[0m\u001b[0;34m=\u001b[0m\u001b[0mguardrails_hap_params\u001b[0m\u001b[0;34m,\u001b[0m\u001b[0;34m\u001b[0m\u001b[0;34m\u001b[0m\u001b[0m\n",
            "\u001b[0;32m~/.local/lib/python3.11/site-packages/ibm_watsonx_ai/foundation_models/model.py\u001b[0m in \u001b[0;36mgenerate\u001b[0;34m(self, prompt, params, guardrails, guardrails_hap_params, guardrails_pii_params, concurrency_limit, async_mode)\u001b[0m\n\u001b[1;32m    186\u001b[0m \u001b[0;34m\u001b[0m\u001b[0m\n\u001b[1;32m    187\u001b[0m         \"\"\"\n\u001b[0;32m--> 188\u001b[0;31m         return super().generate(prompt=prompt,\n\u001b[0m\u001b[1;32m    189\u001b[0m                                 \u001b[0mparams\u001b[0m\u001b[0;34m=\u001b[0m\u001b[0mparams\u001b[0m\u001b[0;34m,\u001b[0m\u001b[0;34m\u001b[0m\u001b[0;34m\u001b[0m\u001b[0m\n\u001b[1;32m    190\u001b[0m                                 \u001b[0mguardrails\u001b[0m\u001b[0;34m=\u001b[0m\u001b[0mguardrails\u001b[0m\u001b[0;34m,\u001b[0m\u001b[0;34m\u001b[0m\u001b[0;34m\u001b[0m\u001b[0m\n",
            "\u001b[0;32m~/.local/lib/python3.11/site-packages/ibm_watsonx_ai/foundation_models/inference/model_inference.py\u001b[0m in \u001b[0;36mgenerate\u001b[0;34m(self, prompt, params, guardrails, guardrails_hap_params, guardrails_pii_params, concurrency_limit, async_mode)\u001b[0m\n\u001b[1;32m    226\u001b[0m             \u001b[0;32mraise\u001b[0m \u001b[0mParamOutOfRange\u001b[0m\u001b[0;34m(\u001b[0m\u001b[0mparam_name\u001b[0m\u001b[0;34m=\u001b[0m\u001b[0;34m'concurrency_limit'\u001b[0m\u001b[0;34m,\u001b[0m \u001b[0mvalue\u001b[0m\u001b[0;34m=\u001b[0m\u001b[0mconcurrency_limit\u001b[0m\u001b[0;34m,\u001b[0m \u001b[0mmin\u001b[0m\u001b[0;34m=\u001b[0m\u001b[0;36m1\u001b[0m\u001b[0;34m,\u001b[0m \u001b[0mmax\u001b[0m\u001b[0;34m=\u001b[0m\u001b[0;36m10\u001b[0m\u001b[0;34m)\u001b[0m\u001b[0;34m\u001b[0m\u001b[0;34m\u001b[0m\u001b[0m\n\u001b[1;32m    227\u001b[0m \u001b[0;34m\u001b[0m\u001b[0m\n\u001b[0;32m--> 228\u001b[0;31m         return self._inference.generate(prompt=prompt,\n\u001b[0m\u001b[1;32m    229\u001b[0m                                         \u001b[0mparams\u001b[0m\u001b[0;34m=\u001b[0m\u001b[0mparams\u001b[0m\u001b[0;34m,\u001b[0m\u001b[0;34m\u001b[0m\u001b[0;34m\u001b[0m\u001b[0m\n\u001b[1;32m    230\u001b[0m                                         \u001b[0mguardrails\u001b[0m\u001b[0;34m=\u001b[0m\u001b[0mguardrails\u001b[0m\u001b[0;34m,\u001b[0m\u001b[0;34m\u001b[0m\u001b[0;34m\u001b[0m\u001b[0m\n",
            "\u001b[0;32m~/.local/lib/python3.11/site-packages/ibm_watsonx_ai/foundation_models/inference/fm_model_inference.py\u001b[0m in \u001b[0;36mgenerate\u001b[0;34m(self, prompt, params, guardrails, guardrails_hap_params, guardrails_pii_params, concurrency_limit, async_mode)\u001b[0m\n\u001b[1;32m     87\u001b[0m                                                  concurrency_limit=concurrency_limit)\n\u001b[1;32m     88\u001b[0m         \u001b[0;32melse\u001b[0m\u001b[0;34m:\u001b[0m\u001b[0;34m\u001b[0m\u001b[0;34m\u001b[0m\u001b[0m\n\u001b[0;32m---> 89\u001b[0;31m             return self._generate_with_url(prompt=prompt,\n\u001b[0m\u001b[1;32m     90\u001b[0m                                            \u001b[0mparams\u001b[0m\u001b[0;34m=\u001b[0m\u001b[0mparams\u001b[0m\u001b[0;34m,\u001b[0m\u001b[0;34m\u001b[0m\u001b[0;34m\u001b[0m\u001b[0m\n\u001b[1;32m     91\u001b[0m                                            \u001b[0mgenerate_url\u001b[0m\u001b[0;34m=\u001b[0m\u001b[0mgenerate_text_url\u001b[0m\u001b[0;34m,\u001b[0m\u001b[0;34m\u001b[0m\u001b[0;34m\u001b[0m\u001b[0m\n",
            "\u001b[0;32m~/.local/lib/python3.11/site-packages/ibm_watsonx_ai/foundation_models/inference/base_model_inference.py\u001b[0m in \u001b[0;36m_generate_with_url\u001b[0;34m(self, prompt, params, generate_url, guardrails, guardrails_hap_params, guardrails_pii_params, concurrency_limit)\u001b[0m\n\u001b[1;32m    146\u001b[0m \u001b[0;34m\u001b[0m\u001b[0m\n\u001b[1;32m    147\u001b[0m         \u001b[0;32melse\u001b[0m\u001b[0;34m:\u001b[0m\u001b[0;34m\u001b[0m\u001b[0;34m\u001b[0m\u001b[0m\n\u001b[0;32m--> 148\u001b[0;31m             return self._send_inference_payload(prompt,\n\u001b[0m\u001b[1;32m    149\u001b[0m                                                 \u001b[0mparams\u001b[0m\u001b[0;34m,\u001b[0m\u001b[0;34m\u001b[0m\u001b[0;34m\u001b[0m\u001b[0m\n\u001b[1;32m    150\u001b[0m                                                 \u001b[0mgenerate_url\u001b[0m\u001b[0;34m,\u001b[0m\u001b[0;34m\u001b[0m\u001b[0;34m\u001b[0m\u001b[0m\n",
            "\u001b[0;32m~/.local/lib/python3.11/site-packages/ibm_watsonx_ai/foundation_models/inference/base_model_inference.py\u001b[0m in \u001b[0;36m_send_inference_payload\u001b[0;34m(self, prompt, params, generate_url, guardrails, guardrails_hap_params, guardrails_pii_params)\u001b[0m\n\u001b[1;32m    108\u001b[0m                 \u001b[0;32mbreak\u001b[0m\u001b[0;34m\u001b[0m\u001b[0;34m\u001b[0m\u001b[0m\n\u001b[1;32m    109\u001b[0m \u001b[0;34m\u001b[0m\u001b[0m\n\u001b[0;32m--> 110\u001b[0;31m         \u001b[0;32mreturn\u001b[0m \u001b[0mself\u001b[0m\u001b[0;34m.\u001b[0m\u001b[0m_handle_response\u001b[0m\u001b[0;34m(\u001b[0m\u001b[0;36m200\u001b[0m\u001b[0;34m,\u001b[0m \u001b[0;34mu'generate'\u001b[0m\u001b[0;34m,\u001b[0m \u001b[0mresponse_scoring\u001b[0m\u001b[0;34m)\u001b[0m\u001b[0;34m\u001b[0m\u001b[0;34m\u001b[0m\u001b[0m\n\u001b[0m\u001b[1;32m    111\u001b[0m \u001b[0;34m\u001b[0m\u001b[0m\n\u001b[1;32m    112\u001b[0m     def _generate_with_url(self,\n",
            "\u001b[0;32m~/.local/lib/python3.11/site-packages/ibm_watson_machine_learning/wml_resource.py\u001b[0m in \u001b[0;36m_handle_response\u001b[0;34m(self, expected_status_code, operationName, response, json_response)\u001b[0m\n\u001b[1;32m     62\u001b[0m                 \u001b[0;32mreturn\u001b[0m \u001b[0mresponse\u001b[0m\u001b[0;34m.\u001b[0m\u001b[0mtext\u001b[0m\u001b[0;34m\u001b[0m\u001b[0;34m\u001b[0m\u001b[0m\n\u001b[1;32m     63\u001b[0m         \u001b[0;32melse\u001b[0m\u001b[0;34m:\u001b[0m\u001b[0;34m\u001b[0m\u001b[0;34m\u001b[0m\u001b[0m\n\u001b[0;32m---> 64\u001b[0;31m             \u001b[0;32mraise\u001b[0m \u001b[0mApiRequestFailure\u001b[0m\u001b[0;34m(\u001b[0m\u001b[0;34mu'Failure during {}.'\u001b[0m\u001b[0;34m.\u001b[0m\u001b[0mformat\u001b[0m\u001b[0;34m(\u001b[0m\u001b[0moperationName\u001b[0m\u001b[0;34m)\u001b[0m\u001b[0;34m,\u001b[0m \u001b[0mresponse\u001b[0m\u001b[0;34m)\u001b[0m\u001b[0;34m\u001b[0m\u001b[0;34m\u001b[0m\u001b[0m\n\u001b[0m\u001b[1;32m     65\u001b[0m \u001b[0;34m\u001b[0m\u001b[0m\n\u001b[1;32m     66\u001b[0m     \u001b[0;34m@\u001b[0m\u001b[0mstaticmethod\u001b[0m\u001b[0;34m\u001b[0m\u001b[0;34m\u001b[0m\u001b[0m\n",
            "\u001b[0;31mApiRequestFailure\u001b[0m: Failure during generate. (POST https://us-south.ml.cloud.ibm.com/ml/v1/text/generation?version=2024-10-28)\nStatus code: 429, body: {\"errors\":[{\"code\":\"consumption_limit_reached\",\"message\":\"The usage limit for the current plan has been reached: the total number of free concurrent requests for model mistralai/mixtral-8x7b-instruct-v01 has reached its limit 10. Please try again later\",\"more_info\":\"https://cloud.ibm.com/apidocs/watsonx-ai#text-generation\"}],\"trace\":\"c8d658be1b65fc618be0f02e53d10cfc\",\"status_code\":429}"
          ]
        }
      ],
      "source": [
        "params = {\n",
        "    \"max_new_tokens\": 128,\n",
        "    \"min_new_tokens\": 10,\n",
        "    \"temperature\": 0.5,\n",
        "    \"top_p\": 0.2,\n",
        "    \"top_k\": 1\n",
        "}\n",
        "\n",
        "prompt = \"The wind is in montevideo\"\n",
        "\n",
        "response = llm_model(prompt, params)\n",
        "print(f\"prompt: {prompt}\\n\")\n",
        "print(f\"response : {response}\\n\")"
      ],
      "execution_count": 40
    },
    {
      "cell_type": "markdown",
      "metadata": {
        "id": "ec83731e-4c11-4c3c-bcd1-cce5822a30a4"
      },
      "source": [
        "As you can see from the response, the model continues generating content following the initial prompt, \"The wind is\". You might notice that the response appears truncated or incomplete. This is because you have set the `max_new_tokens,` which restricts the number of tokens the model can generate.\n",
        "\n",
        "Try to adjust the parameters and observe the difference in the response.\n"
      ]
    },
    {
      "cell_type": "markdown",
      "metadata": {
        "id": "23d83359-4bfe-42a5-a145-3b20ee05129e"
      },
      "source": [
        "### Zero-shot prompt\n"
      ]
    },
    {
      "cell_type": "markdown",
      "metadata": {
        "id": "0d8b7f05-36b8-447d-9fd3-79ee04a60b98"
      },
      "source": [
        "Here is an example of a zero-shot prompt.\n",
        "\n",
        "Zero-shot learning is crucial for testing a model's ability to apply its pre-trained knowledge to new, unseen tasks without additional training. This capability is valuable for gauging the model's generalization skills.\n",
        "\n",
        "In this example, let's demonstrate a zero-shot learning scenario using a prompt that asks the model to classify a statement without any prior specific training on similar tasks. The prompt requests the model to assess the truthfulness of the statement: \"The Eiffel Tower is located in Berlin.\". After defining the prompt, you'll execute it with default parameters and print the response.\n",
        "\n",
        "This approach helps you understand how well the model can handle direct questions based on its underlying knowledge and reasoning abilities.\n"
      ]
    },
    {
      "cell_type": "markdown",
      "metadata": {
        "id": "a5edfb9f-2c5b-4362-b821-7d4a88d27cd0"
      },
      "source": [
        "Try running the prompt to see the model's capacity to correctly analyze and respond to factual inaccuracies.\n"
      ]
    },
    {
      "cell_type": "code",
      "metadata": {
        "id": "c6d5d592-ee61-4366-b6ce-fc438dd48bfd"
      },
      "outputs": [],
      "source": [
        "prompt = \"\"\"Classify the following statement as true or false:\n",
        "            'The Eiffel Tower is located in Berlin.'\n",
        "\n",
        "            Answer:\n",
        "\"\"\"\n",
        "response = llm_model(prompt, params)\n",
        "print(f\"prompt: {prompt}\\n\")\n",
        "print(f\"response : {response}\\n\")"
      ],
      "execution_count": null
    },
    {
      "cell_type": "markdown",
      "metadata": {
        "id": "e1195c10-cc03-4fe0-9374-f6bd69040a84"
      },
      "source": [
        "The model responds with the 'False' answer, which is correct. It also gives the reason for it.\n"
      ]
    },
    {
      "cell_type": "markdown",
      "metadata": {
        "id": "b9a7f52f-f126-4fa6-a112-d5d1391e8370"
      },
      "source": [
        "### One-shot prompt\n"
      ]
    },
    {
      "cell_type": "markdown",
      "metadata": {
        "id": "c001101b-5d0c-4bd1-b86a-f29e13cfd822"
      },
      "source": [
        "Here is a one-shot learning example where the model is given a single example to help guide its translation from English to French.\n",
        "\n",
        "The prompt provides a sample translation pairing, \"How is the weather today?\" translated to \"Comment est le temps aujourd'hui?\" This example serves as a guide for the model to understand the task context and desired format. The model is then tasked with translating a new sentence, \"Where is the nearest supermarket?\" without further guidance.\n"
      ]
    },
    {
      "cell_type": "code",
      "metadata": {
        "id": "c0a0bf5f-a492-429a-88cf-924fbd90cf05"
      },
      "outputs": [],
      "source": [
        "params = {\n",
        "    \"max_new_tokens\": 200,\n",
        "    \"temperature\": 0.1,\n",
        "}\n",
        "\n",
        "prompt = \"\"\"Here is an example of translating a sentence from English to French:\n",
        "\n",
        "            English: “How is the weather today?”\n",
        "            French: “Comment est le temps aujourd'hui?”\n",
        "\n",
        "            Now, translate the following sentence from English to French:\n",
        "\n",
        "            English: “Where is the nearest supermarket?”\n",
        "\n",
        "\"\"\"\n",
        "response = llm_model(prompt, params)\n",
        "print(f\"prompt: {prompt}\\n\")\n",
        "print(f\"response : {response}\\n\")"
      ],
      "execution_count": null
    },
    {
      "cell_type": "markdown",
      "metadata": {
        "id": "8d5dd8de-35f6-430f-bb68-1be74f8e6dee"
      },
      "source": [
        "The model's response shows how it applies the structure and context provided by the initial example to translate the new sentence.\n"
      ]
    },
    {
      "cell_type": "markdown",
      "metadata": {
        "id": "4b729237-32ec-4ed9-b3fc-d84c5f95e9aa"
      },
      "source": [
        "Consider experimenting with different sentences or adjusting the parameters to see how these changes impact the model's translations.\n"
      ]
    },
    {
      "cell_type": "markdown",
      "metadata": {
        "id": "18f40cfe-0be5-4fac-89be-45724dab5c24"
      },
      "source": [
        "### Few-shot prompt\n"
      ]
    },
    {
      "cell_type": "markdown",
      "metadata": {
        "id": "b4e1b2bb-f77d-499a-861a-c4570a5ce8f2"
      },
      "source": [
        "Here is an example of few-shot learning by classifying emotions from text statements.\n",
        "\n",
        "Let's provide the model with three examples, each labeled with an appropriate emotion—joy, frustration, and sadness—to establish a pattern or guideline on how to categorize emotions in statements.\n",
        "\n",
        "After presenting these examples, let's challenge the model with a new statement: \"That movie was so scary I had to cover my eyes.\" The task for the model is to classify the emotion expressed in this new statement based on the learning from the provided examples.\n"
      ]
    },
    {
      "cell_type": "code",
      "metadata": {
        "id": "0a0fd813-2007-4afc-91a2-415e025209a1"
      },
      "outputs": [],
      "source": [
        " #parameters  `max_new_tokens` to 10, which constrains the model to generate brief responses\n",
        "\n",
        "params = {\n",
        "    \"max_new_tokens\": 10,\n",
        "}\n",
        "\n",
        "prompt = \"\"\"Here are few examples of classifying emotions in statements:\n",
        "\n",
        "            Statement: 'I just won my first marathon!'\n",
        "            Emotion: Joy\n",
        "\n",
        "            Statement: 'I can't believe I lost my keys again.'\n",
        "            Emotion: Frustration\n",
        "\n",
        "            Statement: 'My best friend is moving to another country.'\n",
        "            Emotion: Sadness\n",
        "\n",
        "            Now, classify the emotion in the following statement:\n",
        "            Statement: 'That movie was so scary I had to cover my eyes.’\n",
        "\n",
        "\n",
        "\"\"\"\n",
        "response = llm_model(prompt, params)\n",
        "print(f\"prompt: {prompt}\\n\")\n",
        "print(f\"response : {response}\\n\")"
      ],
      "execution_count": null
    },
    {
      "cell_type": "markdown",
      "metadata": {
        "id": "b882e1a1-a235-4242-a695-cc2436947c13"
      },
      "source": [
        "The parameters are set with `max_new_tokens` to 10, which constrains the model to generate brief responses, focusing on the essential output without elaboration.\n"
      ]
    },
    {
      "cell_type": "markdown",
      "metadata": {
        "id": "35db2ca5-53f8-48eb-8f8b-5bff6b645b0c"
      },
      "source": [
        "The model's response demonstrates its ability to use the provided few examples to understand and classify the emotion of the new statement effectively following the same pattern in examples.\n"
      ]
    },
    {
      "cell_type": "markdown",
      "metadata": {
        "id": "09b4d220-2fd7-4f7b-8bb0-1a2e3e0b4332"
      },
      "source": [
        "### Chain-of-thought (CoT) prompting\n"
      ]
    },
    {
      "cell_type": "markdown",
      "metadata": {
        "id": "50581598-dd72-47ea-9bbf-566bbf26454f"
      },
      "source": [
        "Here is an example of the Chain-of-Thought (CoT) prompting technique, designed to guide the model through a sequence of reasoning steps to solve a problem. In this example, the problem is a simple arithmetic question: “A store had 22 apples. They sold 15 apples today and received a new delivery of 8 apples. How many apples are there now?”\n",
        "\n",
        "The CoT technique involves structuring the prompt by instructing the model to “Break down each step of your calculation.” This encourages the model to include explicit reasoning steps, mimicking human-like problem-solving processes.\n"
      ]
    },
    {
      "cell_type": "code",
      "metadata": {
        "id": "9bf39d78-5c0b-4b11-acec-9cb8d8331e99"
      },
      "outputs": [],
      "source": [
        "params = {\n",
        "    \"max_new_tokens\": 512,\n",
        "    \"temperature\": 0.5,\n",
        "}\n",
        "\n",
        "prompt = \"\"\"Consider the problem: 'A store had 22 apples. They sold 15 apples today and got a new delivery of 8 apples.\n",
        "            How many apples are there now?’\n",
        "\n",
        "            Break down each step of your calculation\n",
        "\n",
        "\"\"\"\n",
        "response = llm_model(prompt, params)\n",
        "print(f\"prompt: {prompt}\\n\")\n",
        "print(f\"response : {response}\\n\")"
      ],
      "execution_count": null
    },
    {
      "cell_type": "markdown",
      "metadata": {
        "id": "0979ecc7-fd7f-43cc-92d5-7f5cb398cb5f"
      },
      "source": [
        "From the response of the model, you can see the prompt directs the model to:\n",
        "\n",
        "1. Add the initial number of apples to the apples received in the new delivery.\n",
        "2. Subtract the number of apples sold from the sum obtained in the first step.\n"
      ]
    },
    {
      "cell_type": "markdown",
      "metadata": {
        "id": "8b43ed23-8455-42c4-a6bc-034d741c1023"
      },
      "source": [
        "By breaking down the problem into specific steps, the model is better able to understand the sequence of operations required to arrive at the correct answer.\n"
      ]
    },
    {
      "cell_type": "markdown",
      "metadata": {
        "id": "6f28f2e9-b837-41cb-ba7c-4fb705847f65"
      },
      "source": [
        "### Self-consistency\n"
      ]
    },
    {
      "cell_type": "markdown",
      "metadata": {
        "id": "bffda872-f719-467b-974d-bbd134817f9a"
      },
      "source": [
        "This example demonstrates the self-consistency technique in reasoning through multiple calculations for a single problem. The problem posed is: “When I was 6, my sister was half my age. Now I am 70, what age is my sister?”\n",
        "\n",
        "The prompt instructs, “Provide three independent calculations and explanations, then determine the most consistent result.” This encourages the model to engage in critical thinking and consistency checking, which are vital for complex decision-making processes.\n"
      ]
    },
    {
      "cell_type": "code",
      "metadata": {
        "colab": {
          "base_uri": "https://localhost:8080/",
          "height": 563
        },
        "id": "a2e55cdc-fa04-46d6-bf18-f0c5ff636e54",
        "outputId": "a253eef8-ceca-4e3d-98de-c55823e6b227"
      },
      "outputs": [
        {
          "output_type": "stream",
          "name": "stderr",
          "text": [
            "WARNING:ibm_watson_machine_learning.wml_client_error:Failure during generate. (POST https://us-south.ml.cloud.ibm.com/ml/v1/text/generation?version=2024-10-28)\n",
            "Status code: 429, body: {\"errors\":[{\"code\":\"consumption_limit_reached\",\"message\":\"The usage limit for the current plan has been reached: the total number of free concurrent requests for model mistralai/mixtral-8x7b-instruct-v01 has reached its limit 10. Please try again later\",\"more_info\":\"https://cloud.ibm.com/apidocs/watsonx-ai#text-generation\"}],\"trace\":\"b5d35611027fc6af8683d13b6de4b790\",\"status_code\":429}\n"
          ]
        },
        {
          "output_type": "error",
          "ename": "ApiRequestFailure",
          "evalue": "Failure during generate. (POST https://us-south.ml.cloud.ibm.com/ml/v1/text/generation?version=2024-10-28)\nStatus code: 429, body: {\"errors\":[{\"code\":\"consumption_limit_reached\",\"message\":\"The usage limit for the current plan has been reached: the total number of free concurrent requests for model mistralai/mixtral-8x7b-instruct-v01 has reached its limit 10. Please try again later\",\"more_info\":\"https://cloud.ibm.com/apidocs/watsonx-ai#text-generation\"}],\"trace\":\"b5d35611027fc6af8683d13b6de4b790\",\"status_code\":429}",
          "traceback": [
            "\u001b[0;31m---------------------------------------------------------------------------\u001b[0m",
            "\u001b[0;31mApiRequestFailure\u001b[0m                         Traceback (most recent call last)",
            "\u001b[0;32m<ipython-input-41-b2168f1b973c>\u001b[0m in \u001b[0;36m<cell line: 0>\u001b[0;34m()\u001b[0m\n\u001b[1;32m      8\u001b[0m \u001b[0;34m\u001b[0m\u001b[0m\n\u001b[1;32m      9\u001b[0m \"\"\"\n\u001b[0;32m---> 10\u001b[0;31m \u001b[0mresponse\u001b[0m \u001b[0;34m=\u001b[0m \u001b[0mllm_model\u001b[0m\u001b[0;34m(\u001b[0m\u001b[0mprompt\u001b[0m\u001b[0;34m,\u001b[0m \u001b[0mparams\u001b[0m\u001b[0;34m)\u001b[0m\u001b[0;34m\u001b[0m\u001b[0;34m\u001b[0m\u001b[0m\n\u001b[0m\u001b[1;32m     11\u001b[0m \u001b[0mprint\u001b[0m\u001b[0;34m(\u001b[0m\u001b[0;34mf\"prompt: {prompt}\\n\"\u001b[0m\u001b[0;34m)\u001b[0m\u001b[0;34m\u001b[0m\u001b[0;34m\u001b[0m\u001b[0m\n\u001b[1;32m     12\u001b[0m \u001b[0mprint\u001b[0m\u001b[0;34m(\u001b[0m\u001b[0;34mf\"response : {response}\\n\"\u001b[0m\u001b[0;34m)\u001b[0m\u001b[0;34m\u001b[0m\u001b[0;34m\u001b[0m\u001b[0m\n",
            "\u001b[0;32m<ipython-input-38-40f818e5084b>\u001b[0m in \u001b[0;36mllm_model\u001b[0;34m(prompt_txt, params)\u001b[0m\n\u001b[1;32m     42\u001b[0m \u001b[0;34m\u001b[0m\u001b[0m\n\u001b[1;32m     43\u001b[0m     \u001b[0mmixtral_llm\u001b[0m \u001b[0;34m=\u001b[0m \u001b[0mWatsonxLLM\u001b[0m\u001b[0;34m(\u001b[0m\u001b[0mmodel\u001b[0m\u001b[0;34m=\u001b[0m\u001b[0mmodel\u001b[0m\u001b[0;34m)\u001b[0m\u001b[0;34m\u001b[0m\u001b[0;34m\u001b[0m\u001b[0m\n\u001b[0;32m---> 44\u001b[0;31m     \u001b[0mresponse\u001b[0m  \u001b[0;34m=\u001b[0m \u001b[0mmixtral_llm\u001b[0m\u001b[0;34m.\u001b[0m\u001b[0minvoke\u001b[0m\u001b[0;34m(\u001b[0m\u001b[0mprompt_txt\u001b[0m\u001b[0;34m)\u001b[0m\u001b[0;34m\u001b[0m\u001b[0;34m\u001b[0m\u001b[0m\n\u001b[0m\u001b[1;32m     45\u001b[0m     \u001b[0;32mreturn\u001b[0m \u001b[0mresponse\u001b[0m\u001b[0;34m\u001b[0m\u001b[0;34m\u001b[0m\u001b[0m\n",
            "\u001b[0;32m~/.local/lib/python3.11/site-packages/langchain_core/language_models/llms.py\u001b[0m in \u001b[0;36minvoke\u001b[0;34m(self, input, config, stop, **kwargs)\u001b[0m\n\u001b[1;32m    274\u001b[0m         \u001b[0mconfig\u001b[0m \u001b[0;34m=\u001b[0m \u001b[0mensure_config\u001b[0m\u001b[0;34m(\u001b[0m\u001b[0mconfig\u001b[0m\u001b[0;34m)\u001b[0m\u001b[0;34m\u001b[0m\u001b[0;34m\u001b[0m\u001b[0m\n\u001b[1;32m    275\u001b[0m         return (\n\u001b[0;32m--> 276\u001b[0;31m             self.generate_prompt(\n\u001b[0m\u001b[1;32m    277\u001b[0m                 \u001b[0;34m[\u001b[0m\u001b[0mself\u001b[0m\u001b[0;34m.\u001b[0m\u001b[0m_convert_input\u001b[0m\u001b[0;34m(\u001b[0m\u001b[0minput\u001b[0m\u001b[0;34m)\u001b[0m\u001b[0;34m]\u001b[0m\u001b[0;34m,\u001b[0m\u001b[0;34m\u001b[0m\u001b[0;34m\u001b[0m\u001b[0m\n\u001b[1;32m    278\u001b[0m                 \u001b[0mstop\u001b[0m\u001b[0;34m=\u001b[0m\u001b[0mstop\u001b[0m\u001b[0;34m,\u001b[0m\u001b[0;34m\u001b[0m\u001b[0;34m\u001b[0m\u001b[0m\n",
            "\u001b[0;32m~/.local/lib/python3.11/site-packages/langchain_core/language_models/llms.py\u001b[0m in \u001b[0;36mgenerate_prompt\u001b[0;34m(self, prompts, stop, callbacks, **kwargs)\u001b[0m\n\u001b[1;32m    631\u001b[0m     ) -> LLMResult:\n\u001b[1;32m    632\u001b[0m         \u001b[0mprompt_strings\u001b[0m \u001b[0;34m=\u001b[0m \u001b[0;34m[\u001b[0m\u001b[0mp\u001b[0m\u001b[0;34m.\u001b[0m\u001b[0mto_string\u001b[0m\u001b[0;34m(\u001b[0m\u001b[0;34m)\u001b[0m \u001b[0;32mfor\u001b[0m \u001b[0mp\u001b[0m \u001b[0;32min\u001b[0m \u001b[0mprompts\u001b[0m\u001b[0;34m]\u001b[0m\u001b[0;34m\u001b[0m\u001b[0;34m\u001b[0m\u001b[0m\n\u001b[0;32m--> 633\u001b[0;31m         \u001b[0;32mreturn\u001b[0m \u001b[0mself\u001b[0m\u001b[0;34m.\u001b[0m\u001b[0mgenerate\u001b[0m\u001b[0;34m(\u001b[0m\u001b[0mprompt_strings\u001b[0m\u001b[0;34m,\u001b[0m \u001b[0mstop\u001b[0m\u001b[0;34m=\u001b[0m\u001b[0mstop\u001b[0m\u001b[0;34m,\u001b[0m \u001b[0mcallbacks\u001b[0m\u001b[0;34m=\u001b[0m\u001b[0mcallbacks\u001b[0m\u001b[0;34m,\u001b[0m \u001b[0;34m**\u001b[0m\u001b[0mkwargs\u001b[0m\u001b[0;34m)\u001b[0m\u001b[0;34m\u001b[0m\u001b[0;34m\u001b[0m\u001b[0m\n\u001b[0m\u001b[1;32m    634\u001b[0m \u001b[0;34m\u001b[0m\u001b[0m\n\u001b[1;32m    635\u001b[0m     async def agenerate_prompt(\n",
            "\u001b[0;32m~/.local/lib/python3.11/site-packages/langchain_core/language_models/llms.py\u001b[0m in \u001b[0;36mgenerate\u001b[0;34m(self, prompts, stop, callbacks, tags, metadata, run_name, run_id, **kwargs)\u001b[0m\n\u001b[1;32m    801\u001b[0m                 )\n\u001b[1;32m    802\u001b[0m             ]\n\u001b[0;32m--> 803\u001b[0;31m             output = self._generate_helper(\n\u001b[0m\u001b[1;32m    804\u001b[0m                 \u001b[0mprompts\u001b[0m\u001b[0;34m,\u001b[0m \u001b[0mstop\u001b[0m\u001b[0;34m,\u001b[0m \u001b[0mrun_managers\u001b[0m\u001b[0;34m,\u001b[0m \u001b[0mbool\u001b[0m\u001b[0;34m(\u001b[0m\u001b[0mnew_arg_supported\u001b[0m\u001b[0;34m)\u001b[0m\u001b[0;34m,\u001b[0m \u001b[0;34m**\u001b[0m\u001b[0mkwargs\u001b[0m\u001b[0;34m\u001b[0m\u001b[0;34m\u001b[0m\u001b[0m\n\u001b[1;32m    805\u001b[0m             )\n",
            "\u001b[0;32m~/.local/lib/python3.11/site-packages/langchain_core/language_models/llms.py\u001b[0m in \u001b[0;36m_generate_helper\u001b[0;34m(self, prompts, stop, run_managers, new_arg_supported, **kwargs)\u001b[0m\n\u001b[1;32m    668\u001b[0m             \u001b[0;32mfor\u001b[0m \u001b[0mrun_manager\u001b[0m \u001b[0;32min\u001b[0m \u001b[0mrun_managers\u001b[0m\u001b[0;34m:\u001b[0m\u001b[0;34m\u001b[0m\u001b[0;34m\u001b[0m\u001b[0m\n\u001b[1;32m    669\u001b[0m                 \u001b[0mrun_manager\u001b[0m\u001b[0;34m.\u001b[0m\u001b[0mon_llm_error\u001b[0m\u001b[0;34m(\u001b[0m\u001b[0me\u001b[0m\u001b[0;34m,\u001b[0m \u001b[0mresponse\u001b[0m\u001b[0;34m=\u001b[0m\u001b[0mLLMResult\u001b[0m\u001b[0;34m(\u001b[0m\u001b[0mgenerations\u001b[0m\u001b[0;34m=\u001b[0m\u001b[0;34m[\u001b[0m\u001b[0;34m]\u001b[0m\u001b[0;34m)\u001b[0m\u001b[0;34m)\u001b[0m\u001b[0;34m\u001b[0m\u001b[0;34m\u001b[0m\u001b[0m\n\u001b[0;32m--> 670\u001b[0;31m             \u001b[0;32mraise\u001b[0m \u001b[0me\u001b[0m\u001b[0;34m\u001b[0m\u001b[0;34m\u001b[0m\u001b[0m\n\u001b[0m\u001b[1;32m    671\u001b[0m         \u001b[0mflattened_outputs\u001b[0m \u001b[0;34m=\u001b[0m \u001b[0moutput\u001b[0m\u001b[0;34m.\u001b[0m\u001b[0mflatten\u001b[0m\u001b[0;34m(\u001b[0m\u001b[0;34m)\u001b[0m\u001b[0;34m\u001b[0m\u001b[0;34m\u001b[0m\u001b[0m\n\u001b[1;32m    672\u001b[0m         \u001b[0;32mfor\u001b[0m \u001b[0mmanager\u001b[0m\u001b[0;34m,\u001b[0m \u001b[0mflattened_output\u001b[0m \u001b[0;32min\u001b[0m \u001b[0mzip\u001b[0m\u001b[0;34m(\u001b[0m\u001b[0mrun_managers\u001b[0m\u001b[0;34m,\u001b[0m \u001b[0mflattened_outputs\u001b[0m\u001b[0;34m)\u001b[0m\u001b[0;34m:\u001b[0m\u001b[0;34m\u001b[0m\u001b[0;34m\u001b[0m\u001b[0m\n",
            "\u001b[0;32m~/.local/lib/python3.11/site-packages/langchain_core/language_models/llms.py\u001b[0m in \u001b[0;36m_generate_helper\u001b[0;34m(self, prompts, stop, run_managers, new_arg_supported, **kwargs)\u001b[0m\n\u001b[1;32m    655\u001b[0m         \u001b[0;32mtry\u001b[0m\u001b[0;34m:\u001b[0m\u001b[0;34m\u001b[0m\u001b[0;34m\u001b[0m\u001b[0m\n\u001b[1;32m    656\u001b[0m             output = (\n\u001b[0;32m--> 657\u001b[0;31m                 self._generate(\n\u001b[0m\u001b[1;32m    658\u001b[0m                     \u001b[0mprompts\u001b[0m\u001b[0;34m,\u001b[0m\u001b[0;34m\u001b[0m\u001b[0;34m\u001b[0m\u001b[0m\n\u001b[1;32m    659\u001b[0m                     \u001b[0mstop\u001b[0m\u001b[0;34m=\u001b[0m\u001b[0mstop\u001b[0m\u001b[0;34m,\u001b[0m\u001b[0;34m\u001b[0m\u001b[0;34m\u001b[0m\u001b[0m\n",
            "\u001b[0;32m~/.local/lib/python3.11/site-packages/langchain_core/language_models/llms.py\u001b[0m in \u001b[0;36m_generate\u001b[0;34m(self, prompts, stop, run_manager, **kwargs)\u001b[0m\n\u001b[1;32m   1317\u001b[0m                 \u001b[0mself\u001b[0m\u001b[0;34m.\u001b[0m\u001b[0m_call\u001b[0m\u001b[0;34m(\u001b[0m\u001b[0mprompt\u001b[0m\u001b[0;34m,\u001b[0m \u001b[0mstop\u001b[0m\u001b[0;34m=\u001b[0m\u001b[0mstop\u001b[0m\u001b[0;34m,\u001b[0m \u001b[0mrun_manager\u001b[0m\u001b[0;34m=\u001b[0m\u001b[0mrun_manager\u001b[0m\u001b[0;34m,\u001b[0m \u001b[0;34m**\u001b[0m\u001b[0mkwargs\u001b[0m\u001b[0;34m)\u001b[0m\u001b[0;34m\u001b[0m\u001b[0;34m\u001b[0m\u001b[0m\n\u001b[1;32m   1318\u001b[0m                 \u001b[0;32mif\u001b[0m \u001b[0mnew_arg_supported\u001b[0m\u001b[0;34m\u001b[0m\u001b[0;34m\u001b[0m\u001b[0m\n\u001b[0;32m-> 1319\u001b[0;31m                 \u001b[0;32melse\u001b[0m \u001b[0mself\u001b[0m\u001b[0;34m.\u001b[0m\u001b[0m_call\u001b[0m\u001b[0;34m(\u001b[0m\u001b[0mprompt\u001b[0m\u001b[0;34m,\u001b[0m \u001b[0mstop\u001b[0m\u001b[0;34m=\u001b[0m\u001b[0mstop\u001b[0m\u001b[0;34m,\u001b[0m \u001b[0;34m**\u001b[0m\u001b[0mkwargs\u001b[0m\u001b[0;34m)\u001b[0m\u001b[0;34m\u001b[0m\u001b[0;34m\u001b[0m\u001b[0m\n\u001b[0m\u001b[1;32m   1320\u001b[0m             )\n\u001b[1;32m   1321\u001b[0m             \u001b[0mgenerations\u001b[0m\u001b[0;34m.\u001b[0m\u001b[0mappend\u001b[0m\u001b[0;34m(\u001b[0m\u001b[0;34m[\u001b[0m\u001b[0mGeneration\u001b[0m\u001b[0;34m(\u001b[0m\u001b[0mtext\u001b[0m\u001b[0;34m=\u001b[0m\u001b[0mtext\u001b[0m\u001b[0;34m)\u001b[0m\u001b[0;34m]\u001b[0m\u001b[0;34m)\u001b[0m\u001b[0;34m\u001b[0m\u001b[0;34m\u001b[0m\u001b[0m\n",
            "\u001b[0;32m~/.local/lib/python3.11/site-packages/ibm_watson_machine_learning/foundation_models/extensions/langchain/llm.py\u001b[0m in \u001b[0;36m_call\u001b[0;34m(self, prompt, stop)\u001b[0m\n\u001b[1;32m     96\u001b[0m                 \u001b[0mresponse\u001b[0m \u001b[0;34m=\u001b[0m \u001b[0mllm\u001b[0m\u001b[0;34m(\u001b[0m\u001b[0;34m\"What is a molecule\"\u001b[0m\u001b[0;34m)\u001b[0m\u001b[0;34m\u001b[0m\u001b[0;34m\u001b[0m\u001b[0m\n\u001b[1;32m     97\u001b[0m         \"\"\"\n\u001b[0;32m---> 98\u001b[0;31m         \u001b[0mtext\u001b[0m \u001b[0;34m=\u001b[0m \u001b[0mself\u001b[0m\u001b[0;34m.\u001b[0m\u001b[0mmodel\u001b[0m\u001b[0;34m.\u001b[0m\u001b[0mgenerate_text\u001b[0m\u001b[0;34m(\u001b[0m\u001b[0mprompt\u001b[0m\u001b[0;34m=\u001b[0m\u001b[0mprompt\u001b[0m\u001b[0;34m)\u001b[0m\u001b[0;34m\u001b[0m\u001b[0;34m\u001b[0m\u001b[0m\n\u001b[0m\u001b[1;32m     99\u001b[0m         \u001b[0mlogger\u001b[0m\u001b[0;34m.\u001b[0m\u001b[0minfo\u001b[0m\u001b[0;34m(\u001b[0m\u001b[0;34m\"Output of watsonx.ai call: {}\"\u001b[0m\u001b[0;34m.\u001b[0m\u001b[0mformat\u001b[0m\u001b[0;34m(\u001b[0m\u001b[0mtext\u001b[0m\u001b[0;34m)\u001b[0m\u001b[0;34m)\u001b[0m\u001b[0;34m\u001b[0m\u001b[0;34m\u001b[0m\u001b[0m\n\u001b[1;32m    100\u001b[0m         \u001b[0;32mif\u001b[0m \u001b[0mstop\u001b[0m \u001b[0;32mis\u001b[0m \u001b[0;32mnot\u001b[0m \u001b[0;32mNone\u001b[0m\u001b[0;34m:\u001b[0m\u001b[0;34m\u001b[0m\u001b[0;34m\u001b[0m\u001b[0m\n",
            "\u001b[0;32m~/.local/lib/python3.11/site-packages/ibm_watsonx_ai/foundation_models/model.py\u001b[0m in \u001b[0;36mgenerate_text\u001b[0;34m(self, prompt, params, raw_response, guardrails, guardrails_hap_params, guardrails_pii_params, concurrency_limit)\u001b[0m\n\u001b[1;32m    237\u001b[0m \u001b[0;34m\u001b[0m\u001b[0m\n\u001b[1;32m    238\u001b[0m         \"\"\"\n\u001b[0;32m--> 239\u001b[0;31m         return super().generate_text(prompt=prompt,\n\u001b[0m\u001b[1;32m    240\u001b[0m                                      \u001b[0mparams\u001b[0m\u001b[0;34m=\u001b[0m\u001b[0mparams\u001b[0m\u001b[0;34m,\u001b[0m\u001b[0;34m\u001b[0m\u001b[0;34m\u001b[0m\u001b[0m\n\u001b[1;32m    241\u001b[0m                                      \u001b[0mraw_response\u001b[0m\u001b[0;34m=\u001b[0m\u001b[0mraw_response\u001b[0m\u001b[0;34m,\u001b[0m\u001b[0;34m\u001b[0m\u001b[0;34m\u001b[0m\u001b[0m\n",
            "\u001b[0;32m~/.local/lib/python3.11/site-packages/ibm_watsonx_ai/foundation_models/inference/model_inference.py\u001b[0m in \u001b[0;36mgenerate_text\u001b[0;34m(self, prompt, params, guardrails, guardrails_hap_params, guardrails_pii_params, raw_response, concurrency_limit)\u001b[0m\n\u001b[1;32m    288\u001b[0m \u001b[0;34m\u001b[0m\u001b[0m\n\u001b[1;32m    289\u001b[0m         \"\"\"\n\u001b[0;32m--> 290\u001b[0;31m         metadata = self.generate(prompt=prompt, params=params,\n\u001b[0m\u001b[1;32m    291\u001b[0m                                  \u001b[0mguardrails\u001b[0m\u001b[0;34m=\u001b[0m\u001b[0mguardrails\u001b[0m\u001b[0;34m,\u001b[0m\u001b[0;34m\u001b[0m\u001b[0;34m\u001b[0m\u001b[0m\n\u001b[1;32m    292\u001b[0m                                  \u001b[0mguardrails_hap_params\u001b[0m\u001b[0;34m=\u001b[0m\u001b[0mguardrails_hap_params\u001b[0m\u001b[0;34m,\u001b[0m\u001b[0;34m\u001b[0m\u001b[0;34m\u001b[0m\u001b[0m\n",
            "\u001b[0;32m~/.local/lib/python3.11/site-packages/ibm_watsonx_ai/foundation_models/model.py\u001b[0m in \u001b[0;36mgenerate\u001b[0;34m(self, prompt, params, guardrails, guardrails_hap_params, guardrails_pii_params, concurrency_limit, async_mode)\u001b[0m\n\u001b[1;32m    186\u001b[0m \u001b[0;34m\u001b[0m\u001b[0m\n\u001b[1;32m    187\u001b[0m         \"\"\"\n\u001b[0;32m--> 188\u001b[0;31m         return super().generate(prompt=prompt,\n\u001b[0m\u001b[1;32m    189\u001b[0m                                 \u001b[0mparams\u001b[0m\u001b[0;34m=\u001b[0m\u001b[0mparams\u001b[0m\u001b[0;34m,\u001b[0m\u001b[0;34m\u001b[0m\u001b[0;34m\u001b[0m\u001b[0m\n\u001b[1;32m    190\u001b[0m                                 \u001b[0mguardrails\u001b[0m\u001b[0;34m=\u001b[0m\u001b[0mguardrails\u001b[0m\u001b[0;34m,\u001b[0m\u001b[0;34m\u001b[0m\u001b[0;34m\u001b[0m\u001b[0m\n",
            "\u001b[0;32m~/.local/lib/python3.11/site-packages/ibm_watsonx_ai/foundation_models/inference/model_inference.py\u001b[0m in \u001b[0;36mgenerate\u001b[0;34m(self, prompt, params, guardrails, guardrails_hap_params, guardrails_pii_params, concurrency_limit, async_mode)\u001b[0m\n\u001b[1;32m    226\u001b[0m             \u001b[0;32mraise\u001b[0m \u001b[0mParamOutOfRange\u001b[0m\u001b[0;34m(\u001b[0m\u001b[0mparam_name\u001b[0m\u001b[0;34m=\u001b[0m\u001b[0;34m'concurrency_limit'\u001b[0m\u001b[0;34m,\u001b[0m \u001b[0mvalue\u001b[0m\u001b[0;34m=\u001b[0m\u001b[0mconcurrency_limit\u001b[0m\u001b[0;34m,\u001b[0m \u001b[0mmin\u001b[0m\u001b[0;34m=\u001b[0m\u001b[0;36m1\u001b[0m\u001b[0;34m,\u001b[0m \u001b[0mmax\u001b[0m\u001b[0;34m=\u001b[0m\u001b[0;36m10\u001b[0m\u001b[0;34m)\u001b[0m\u001b[0;34m\u001b[0m\u001b[0;34m\u001b[0m\u001b[0m\n\u001b[1;32m    227\u001b[0m \u001b[0;34m\u001b[0m\u001b[0m\n\u001b[0;32m--> 228\u001b[0;31m         return self._inference.generate(prompt=prompt,\n\u001b[0m\u001b[1;32m    229\u001b[0m                                         \u001b[0mparams\u001b[0m\u001b[0;34m=\u001b[0m\u001b[0mparams\u001b[0m\u001b[0;34m,\u001b[0m\u001b[0;34m\u001b[0m\u001b[0;34m\u001b[0m\u001b[0m\n\u001b[1;32m    230\u001b[0m                                         \u001b[0mguardrails\u001b[0m\u001b[0;34m=\u001b[0m\u001b[0mguardrails\u001b[0m\u001b[0;34m,\u001b[0m\u001b[0;34m\u001b[0m\u001b[0;34m\u001b[0m\u001b[0m\n",
            "\u001b[0;32m~/.local/lib/python3.11/site-packages/ibm_watsonx_ai/foundation_models/inference/fm_model_inference.py\u001b[0m in \u001b[0;36mgenerate\u001b[0;34m(self, prompt, params, guardrails, guardrails_hap_params, guardrails_pii_params, concurrency_limit, async_mode)\u001b[0m\n\u001b[1;32m     87\u001b[0m                                                  concurrency_limit=concurrency_limit)\n\u001b[1;32m     88\u001b[0m         \u001b[0;32melse\u001b[0m\u001b[0;34m:\u001b[0m\u001b[0;34m\u001b[0m\u001b[0;34m\u001b[0m\u001b[0m\n\u001b[0;32m---> 89\u001b[0;31m             return self._generate_with_url(prompt=prompt,\n\u001b[0m\u001b[1;32m     90\u001b[0m                                            \u001b[0mparams\u001b[0m\u001b[0;34m=\u001b[0m\u001b[0mparams\u001b[0m\u001b[0;34m,\u001b[0m\u001b[0;34m\u001b[0m\u001b[0;34m\u001b[0m\u001b[0m\n\u001b[1;32m     91\u001b[0m                                            \u001b[0mgenerate_url\u001b[0m\u001b[0;34m=\u001b[0m\u001b[0mgenerate_text_url\u001b[0m\u001b[0;34m,\u001b[0m\u001b[0;34m\u001b[0m\u001b[0;34m\u001b[0m\u001b[0m\n",
            "\u001b[0;32m~/.local/lib/python3.11/site-packages/ibm_watsonx_ai/foundation_models/inference/base_model_inference.py\u001b[0m in \u001b[0;36m_generate_with_url\u001b[0;34m(self, prompt, params, generate_url, guardrails, guardrails_hap_params, guardrails_pii_params, concurrency_limit)\u001b[0m\n\u001b[1;32m    146\u001b[0m \u001b[0;34m\u001b[0m\u001b[0m\n\u001b[1;32m    147\u001b[0m         \u001b[0;32melse\u001b[0m\u001b[0;34m:\u001b[0m\u001b[0;34m\u001b[0m\u001b[0;34m\u001b[0m\u001b[0m\n\u001b[0;32m--> 148\u001b[0;31m             return self._send_inference_payload(prompt,\n\u001b[0m\u001b[1;32m    149\u001b[0m                                                 \u001b[0mparams\u001b[0m\u001b[0;34m,\u001b[0m\u001b[0;34m\u001b[0m\u001b[0;34m\u001b[0m\u001b[0m\n\u001b[1;32m    150\u001b[0m                                                 \u001b[0mgenerate_url\u001b[0m\u001b[0;34m,\u001b[0m\u001b[0;34m\u001b[0m\u001b[0;34m\u001b[0m\u001b[0m\n",
            "\u001b[0;32m~/.local/lib/python3.11/site-packages/ibm_watsonx_ai/foundation_models/inference/base_model_inference.py\u001b[0m in \u001b[0;36m_send_inference_payload\u001b[0;34m(self, prompt, params, generate_url, guardrails, guardrails_hap_params, guardrails_pii_params)\u001b[0m\n\u001b[1;32m    108\u001b[0m                 \u001b[0;32mbreak\u001b[0m\u001b[0;34m\u001b[0m\u001b[0;34m\u001b[0m\u001b[0m\n\u001b[1;32m    109\u001b[0m \u001b[0;34m\u001b[0m\u001b[0m\n\u001b[0;32m--> 110\u001b[0;31m         \u001b[0;32mreturn\u001b[0m \u001b[0mself\u001b[0m\u001b[0;34m.\u001b[0m\u001b[0m_handle_response\u001b[0m\u001b[0;34m(\u001b[0m\u001b[0;36m200\u001b[0m\u001b[0;34m,\u001b[0m \u001b[0;34mu'generate'\u001b[0m\u001b[0;34m,\u001b[0m \u001b[0mresponse_scoring\u001b[0m\u001b[0;34m)\u001b[0m\u001b[0;34m\u001b[0m\u001b[0;34m\u001b[0m\u001b[0m\n\u001b[0m\u001b[1;32m    111\u001b[0m \u001b[0;34m\u001b[0m\u001b[0m\n\u001b[1;32m    112\u001b[0m     def _generate_with_url(self,\n",
            "\u001b[0;32m~/.local/lib/python3.11/site-packages/ibm_watson_machine_learning/wml_resource.py\u001b[0m in \u001b[0;36m_handle_response\u001b[0;34m(self, expected_status_code, operationName, response, json_response)\u001b[0m\n\u001b[1;32m     62\u001b[0m                 \u001b[0;32mreturn\u001b[0m \u001b[0mresponse\u001b[0m\u001b[0;34m.\u001b[0m\u001b[0mtext\u001b[0m\u001b[0;34m\u001b[0m\u001b[0;34m\u001b[0m\u001b[0m\n\u001b[1;32m     63\u001b[0m         \u001b[0;32melse\u001b[0m\u001b[0;34m:\u001b[0m\u001b[0;34m\u001b[0m\u001b[0;34m\u001b[0m\u001b[0m\n\u001b[0;32m---> 64\u001b[0;31m             \u001b[0;32mraise\u001b[0m \u001b[0mApiRequestFailure\u001b[0m\u001b[0;34m(\u001b[0m\u001b[0;34mu'Failure during {}.'\u001b[0m\u001b[0;34m.\u001b[0m\u001b[0mformat\u001b[0m\u001b[0;34m(\u001b[0m\u001b[0moperationName\u001b[0m\u001b[0;34m)\u001b[0m\u001b[0;34m,\u001b[0m \u001b[0mresponse\u001b[0m\u001b[0;34m)\u001b[0m\u001b[0;34m\u001b[0m\u001b[0;34m\u001b[0m\u001b[0m\n\u001b[0m\u001b[1;32m     65\u001b[0m \u001b[0;34m\u001b[0m\u001b[0m\n\u001b[1;32m     66\u001b[0m     \u001b[0;34m@\u001b[0m\u001b[0mstaticmethod\u001b[0m\u001b[0;34m\u001b[0m\u001b[0;34m\u001b[0m\u001b[0m\n",
            "\u001b[0;31mApiRequestFailure\u001b[0m: Failure during generate. (POST https://us-south.ml.cloud.ibm.com/ml/v1/text/generation?version=2024-10-28)\nStatus code: 429, body: {\"errors\":[{\"code\":\"consumption_limit_reached\",\"message\":\"The usage limit for the current plan has been reached: the total number of free concurrent requests for model mistralai/mixtral-8x7b-instruct-v01 has reached its limit 10. Please try again later\",\"more_info\":\"https://cloud.ibm.com/apidocs/watsonx-ai#text-generation\"}],\"trace\":\"b5d35611027fc6af8683d13b6de4b790\",\"status_code\":429}"
          ]
        }
      ],
      "source": [
        "params = {\n",
        "    \"max_new_tokens\": 512,\n",
        "}\n",
        "\n",
        "prompt = \"\"\"When I was 6, my sister was half of my age. Now I am 70, what age is my sister?\n",
        "\n",
        "            Provide three independent calculations and explanations, then determine the most consistent result.\n",
        "\n",
        "\"\"\"\n",
        "response = llm_model(prompt, params)\n",
        "print(f\"prompt: {prompt}\\n\")\n",
        "print(f\"response : {response}\\n\")"
      ],
      "execution_count": 41
    },
    {
      "cell_type": "markdown",
      "metadata": {
        "id": "6133c22c-1f6d-4d01-aac8-4b9f62f41647"
      },
      "source": [
        "The model's response shows that it provides three different calculations and explanations. Each calculation attempts to derive the sister's age using different logical approaches.\n",
        "\n",
        "Self-consistency can help identify the most accurate and reliable answer in scenarios where multiple plausible solutions exist.\n"
      ]
    },
    {
      "cell_type": "markdown",
      "metadata": {
        "id": "dfd01ea6-e781-4635-97db-e23f094d82e7"
      },
      "source": [
        "## Applications\n"
      ]
    },
    {
      "cell_type": "markdown",
      "metadata": {
        "id": "0eb8b351-81cc-4e82-8984-9ceb57e84cd5"
      },
      "source": [
        "In this section, you will show you how to use the prompt template from Langchain to create more structured and reproducible prompts. You will also learn to create some applications based on the prompt template.\n"
      ]
    },
    {
      "cell_type": "markdown",
      "metadata": {
        "id": "ee3a614f-f114-4b6f-9ada-313b8a572766"
      },
      "source": [
        "### Prompt template\n"
      ]
    },
    {
      "cell_type": "markdown",
      "metadata": {
        "id": "8f496e59-3649-43f2-8b2d-866c42353311"
      },
      "source": [
        "[Prompt template](https://python.langchain.com/v0.2/docs/concepts/#prompt-templates) is a key concept in langchain, it helps to translate user input and parameters into instructions for a language model. This can be used to guide a model's response, helping it understand the context and generate relevant and coherent language-based output.\n"
      ]
    },
    {
      "cell_type": "markdown",
      "metadata": {
        "id": "278f1720-73fd-47bd-840d-a4e0e0a6d874"
      },
      "source": [
        "To use the prompt template, you need to initialize a LLM first.\n",
        "\n",
        "You can still use the `mixtral-8x7b-instruct-v01` from watsonx.ai.\n"
      ]
    },
    {
      "cell_type": "code",
      "metadata": {
        "colab": {
          "base_uri": "https://localhost:8080/"
        },
        "id": "c6885225-e860-425b-9e07-2310803a6594",
        "outputId": "610be720-4d58-472c-9313-3dbdc17a2db0"
      },
      "outputs": [
        {
          "output_type": "execute_result",
          "data": {
            "text/plain": [
              "WatsonxLLM(model=<ibm_watsonx_ai.foundation_models.model.Model object at 0x797d281bc510>)"
            ]
          },
          "metadata": {},
          "execution_count": 42
        }
      ],
      "source": [
        "model_id = 'mistralai/mixtral-8x7b-instruct-v01'\n",
        "\n",
        "parameters = {\n",
        "    GenParams.MAX_NEW_TOKENS: 256,  # this controls the maximum number of tokens in the generated output\n",
        "    GenParams.TEMPERATURE: 0.5, # this randomness or creativity of the model's responses\n",
        "}\n",
        "\n",
        "\n",
        "watsonx_API = \"5Rc8ZtpGrToLW-KwzTh1IZeUPxYsBuz54DdCbvA7XQ9T\"\n",
        "\n",
        "credentials = {\n",
        "    \"apikey\": watsonx_API,\n",
        "    \"url\": \"https://us-south.ml.cloud.ibm.com\"\n",
        "}\n",
        "\n",
        "\n",
        "project_id = \"ee110de8-1105-4700-8ed2-857cf6ac17ec\"\n",
        "\n",
        "model = Model(\n",
        "    model_id=model_id,\n",
        "    params=parameters,\n",
        "    credentials=credentials,\n",
        "    project_id=project_id\n",
        ")\n",
        "\n",
        "mixtral_llm = WatsonxLLM(model=model)\n",
        "mixtral_llm"
      ],
      "execution_count": 42
    },
    {
      "cell_type": "markdown",
      "metadata": {
        "id": "3bdacc63-e259-42ac-8a95-e12e6eb50fba"
      },
      "source": [
        "Use the `PromptTemplate` to create a template for a string-based prompt. In this template, you'll define two parameters: `adjective` and `content`. These parameters allow for the reuse of the prompt across different situations. For instance, to adapt the prompt to various contexts, simply pass the relevant values to these parameters.\n"
      ]
    },
    {
      "cell_type": "code",
      "metadata": {
        "colab": {
          "base_uri": "https://localhost:8080/"
        },
        "id": "e55d4548-7f9d-4fe0-89de-c9c3b9b53f90",
        "outputId": "a2e8153f-8b4e-445c-cc6d-8af5cd2364ef"
      },
      "outputs": [
        {
          "output_type": "execute_result",
          "data": {
            "text/plain": [
              "PromptTemplate(input_variables=['adjective', 'content'], template='Tell me a {adjective} joke about {content}.\\n')"
            ]
          },
          "metadata": {},
          "execution_count": 46
        }
      ],
      "source": [
        "template = \"\"\"Tell me a {adjective} joke about {content}.\n",
        "\"\"\"\n",
        "prompt = PromptTemplate.from_template(template)\n",
        "prompt"
      ],
      "execution_count": 46
    },
    {
      "cell_type": "markdown",
      "metadata": {
        "id": "acb09443-7864-4547-8469-eb3bc6980e48"
      },
      "source": [
        "Now, let's take a look at how the prompt has been formatted.\n"
      ]
    },
    {
      "cell_type": "code",
      "metadata": {
        "colab": {
          "base_uri": "https://localhost:8080/",
          "height": 35
        },
        "id": "443775df-d59f-4e1a-a193-63efc6b79295",
        "outputId": "66bac566-6576-42cc-f935-c86ca8f1f726"
      },
      "outputs": [
        {
          "output_type": "execute_result",
          "data": {
            "text/plain": [
              "'Tell me a funny joke about uruguay people.\\n'"
            ],
            "application/vnd.google.colaboratory.intrinsic+json": {
              "type": "string"
            }
          },
          "metadata": {},
          "execution_count": 45
        }
      ],
      "source": [
        "prompt.format(adjective=\"funny\", content=\"uruguay people\")"
      ],
      "execution_count": 45
    },
    {
      "cell_type": "markdown",
      "metadata": {
        "id": "6a074082-6460-431b-aacf-06f61ec30480"
      },
      "source": [
        "From the response, you can see that the prompt is formatted according to the specified context.\n"
      ]
    },
    {
      "cell_type": "markdown",
      "metadata": {
        "id": "167a74b0-a898-4a55-a8a9-900eca85ba55"
      },
      "source": [
        "The following code will wrap the formatted prompt into the LLMChain, and then invoke the prompt to get the response from the LLM.\n"
      ]
    },
    {
      "cell_type": "code",
      "metadata": {
        "colab": {
          "base_uri": "https://localhost:8080/"
        },
        "id": "8c8207a2-6d93-4d80-8ef0-582b3c66ffe9",
        "outputId": "e1a534ea-29ad-4f2e-81ee-099c5af6adf1"
      },
      "outputs": [
        {
          "output_type": "stream",
          "name": "stdout",
          "text": [
            "\n",
            "Why don't Uruguay people ever play hide and seek?\n",
            "\n",
            "Because good luck hiding when you're number 1 in the FIFA world rankings!\n"
          ]
        }
      ],
      "source": [
        "llm_chain = LLMChain(prompt=prompt, llm=mixtral_llm)\n",
        "response = llm_chain.invoke(input = {\"adjective\": \"funny\", \"content\": \"uruguay people\"})\n",
        "print(response[\"text\"])"
      ],
      "execution_count": 47
    },
    {
      "cell_type": "markdown",
      "metadata": {
        "id": "7d7ee1b6-dd8d-46d3-82a2-115940dd1bdb"
      },
      "source": [
        "From the response, you can see the LLM came up with a funny joke about chickens.\n",
        "\n",
        "To use this prompt in another context, simply replace the variables accordingly\n"
      ]
    },
    {
      "cell_type": "code",
      "metadata": {
        "colab": {
          "base_uri": "https://localhost:8080/"
        },
        "id": "9f8204ed-2bfc-45c0-90da-ef8d9275e153",
        "outputId": "767a8e21-acc7-4f34-ed35-d63532573221"
      },
      "outputs": [
        {
          "output_type": "stream",
          "name": "stdout",
          "text": [
            "\n",
            "My fish died... I had to clean the bowl and flush the goldfish down the toilet. The toilet made a weird noise and I couldn't get it to stop. I think I have a clogged fish.\n"
          ]
        }
      ],
      "source": [
        "response = llm_chain.invoke(input = {\"adjective\": \"sad\", \"content\": \"fish\"})\n",
        "print(response[\"text\"])"
      ],
      "execution_count": 40
    },
    {
      "cell_type": "markdown",
      "metadata": {
        "id": "dcd1ccee-2011-429f-88b6-36632c4f5c22"
      },
      "source": [
        "In the following sections, you will learn how to create agents capable of completing various tasks using prompt templates.\n"
      ]
    },
    {
      "cell_type": "markdown",
      "metadata": {
        "id": "7327404d-4b44-40ed-b5d6-e78ed3898f36"
      },
      "source": [
        "### Text summarization\n"
      ]
    },
    {
      "cell_type": "markdown",
      "metadata": {
        "id": "0fddee98-e94e-43d2-beac-5c1a045908ff"
      },
      "source": [
        "Here is a text summarization agent designed to help summarize the content you provide to the LLM.\n",
        "\n",
        "You can store the content to be summarized in a variable, allowing for repeated use of the prompt.\n"
      ]
    },
    {
      "cell_type": "code",
      "metadata": {
        "colab": {
          "base_uri": "https://localhost:8080/"
        },
        "id": "17815188-5543-4d25-8131-72974f14f540",
        "outputId": "9f6d3614-00c2-4c9e-e5f5-f1664aa7fcb2"
      },
      "outputs": [
        {
          "output_type": "stream",
          "name": "stdout",
          "text": [
            "\n",
            "The rapid advancement of technology in the 21st century, including AI, machine learning, and IoT, has revolutionized various industries such as healthcare, education, and transportation, enhancing productivity and contributing to a more interconnected and informed society.\n",
            "the answer is:  \n",
            "\n",
            "The 21st century has seen rapid advancements in technology, particularly in the fields of artificial intelligence (AI), machine learning, and the Internet of Things (IoT). These technologies have revolutionized various industries, including healthcare, education, and transportation, by enhancing productivity and contributing to a more interconnected and informed society.\n",
            "\n",
            "In healthcare, AI and machine learning have enabled the development of more accurate diagnostic tools and personalized treatment plans, improving patient outcomes and reducing healthcare costs. Telemedicine has also become more prevalent, allowing patients to consult with healthcare professionals remotely and reducing the need for in-person visits.\n",
            "\n",
            "In education, technology has facilitated the shift towards more personalized and interactive learning experiences. AI-powered adaptive learning platforms have enabled teachers to tailor instruction to individual students' needs, improving engagement and academic performance. Additionally, the rise of e-learning and online education has expanded access to education for students around the world.\n",
            "\n",
            "In transportation, the advent of autonomous vehicles and smart traffic management systems has the potential to revolutionize the way we travel. Autonomous vehicles have the potential to reduce traffic accidents and congestion, while smart traffic management systems can optimize traffic flow and reduce travel times\n"
          ]
        }
      ],
      "source": [
        "content = \"\"\"\n",
        "        The rapid advancement of technology in the 21st century has transformed various industries, including healthcare, education, and transportation.\n",
        "        Innovations such as artificial intelligence, machine learning, and the Internet of Things have revolutionized how we approach everyday tasks and complex problems.\n",
        "        For instance, AI-powered diagnostic tools are improving the accuracy and speed of medical diagnoses, while smart transportation systems are making cities more efficient and reducing traffic congestion.\n",
        "        Moreover, online learning platforms are making education more accessible to people around the world, breaking down geographical and financial barriers.\n",
        "        These technological developments are not only enhancing productivity but also contributing to a more interconnected and informed society.\n",
        "\"\"\"\n",
        "\n",
        "template = \"\"\"Summarize the {content} in one sentence.\n",
        "\"\"\"\n",
        "prompt = PromptTemplate.from_template(template)\n",
        "\n",
        "llm_chain = LLMChain(prompt=prompt, llm=mixtral_llm)\n",
        "\n",
        "response = llm_chain.invoke(input = {\"content\": content})\n",
        "\n",
        "print(response[\"text\"])\n",
        "\n",
        "otherTemplate = \"\"\"given this text resumend {text} I wanna know what happend in 21st century\"\"\"\n",
        "otherPrompt = PromptTemplate.from_template(otherTemplate)\n",
        "llm_chain = LLMChain(prompt=otherPrompt, llm=mixtral_llm)\n",
        "response = llm_chain.invoke(input = {\"text\": response[\"text\"]})\n",
        "print(\"the answer is: \",response[\"text\"])\n",
        "\n",
        "\n"
      ],
      "execution_count": 50
    },
    {
      "cell_type": "markdown",
      "metadata": {
        "id": "ac6c9385-fd71-4cd5-abce-b9a74ad6aa4e"
      },
      "source": [
        "### Question answering\n"
      ]
    },
    {
      "cell_type": "markdown",
      "metadata": {
        "id": "9a37be47-c882-4f08-9c3b-f15ee238627d"
      },
      "source": [
        "Here is a Q&A agent.\n",
        "\n",
        "This agent enables the LLM to learn from the provided content and answer questions based on what it has learned. Occasionally, if the LLM does not have sufficient information, it might generate a speculative answer. To manage this, you'll specifically instruct it to respond with \"Unsure about the answer\" if it is uncertain about the correct response.\n"
      ]
    },
    {
      "cell_type": "code",
      "metadata": {
        "colab": {
          "base_uri": "https://localhost:8080/"
        },
        "id": "f85fa524-d4d3-4252-ba4a-9be649012874",
        "outputId": "cbad6631-6026-4f68-9da4-d4838ed201de"
      },
      "outputs": [
        {
          "output_type": "stream",
          "name": "stdout",
          "text": [
            "            The inner planets—Mercury, Venus, Earth, and Mars—are rocky and solid.\n"
          ]
        }
      ],
      "source": [
        "content = \"\"\"\n",
        "        The solar system consists of the Sun, eight planets, their moons, dwarf planets, and smaller objects like asteroids and comets.\n",
        "        The inner planets—Mercury, Venus, Earth, and Mars—are rocky and solid.\n",
        "        The outer planets—Jupiter, Saturn, Uranus, and Neptune—are much larger and gaseous.\n",
        "\"\"\"\n",
        "\n",
        "question = \"Which planets in the solar system are rocky and solid?\"\n",
        "\n",
        "template = \"\"\"\n",
        "            Answer the {question} based on the {content}.\n",
        "            Respond \"Unsure about answer\" if not sure about the answer.\n",
        "\n",
        "            Answer:\n",
        "\n",
        "\"\"\"\n",
        "prompt = PromptTemplate.from_template(template)\n",
        "output_key = \"answer\"\n",
        "\n",
        "llm_chain = LLMChain(prompt=prompt, llm=mixtral_llm, output_key=output_key)\n",
        "response = llm_chain.invoke(input = {\"question\":question ,\"content\": content})\n",
        "print(response[\"answer\"])"
      ],
      "execution_count": 41
    },
    {
      "cell_type": "markdown",
      "metadata": {
        "id": "4f4592fd-1efe-4a16-9935-9e495e16a086"
      },
      "source": [
        "### Text classification\n"
      ]
    },
    {
      "cell_type": "markdown",
      "metadata": {
        "id": "150b75c0-d2de-4586-b813-09dc27c96645"
      },
      "source": [
        "Here is a text classification agent designed to categorize text into predefined categories. This example employs zero-shot learning, where the agent classifies text without prior exposure to related examples.\n",
        "\n",
        "Can you revise it to the one-shot learning or few-shot learning in the exercises?\n"
      ]
    },
    {
      "cell_type": "code",
      "metadata": {
        "id": "f720e0fb-7263-40f5-9a4a-b9abe2464305"
      },
      "outputs": [],
      "source": [
        "text = \"\"\"\n",
        "        The concert last night was an exhilarating experience with outstanding performances by all artists.\n",
        "\"\"\"\n",
        "\n",
        "categories = \"Entertainment, Food and Dining, Technology, Literature, Music.\"\n",
        "\n",
        "template = \"\"\"\n",
        "            Classify the {text} into one of the {categories}.\n",
        "\n",
        "            Category:\n",
        "\n",
        "\"\"\"\n",
        "prompt = PromptTemplate.from_template(template)\n",
        "output_key = \"category\"\n",
        "\n",
        "llm_chain = LLMChain(prompt=prompt, llm=mixtral_llm, output_key=output_key)\n",
        "response = llm_chain.invoke(input = {\"text\":text ,\"categories\": categories})\n",
        "print(response[\"category\"])"
      ],
      "execution_count": null
    },
    {
      "cell_type": "markdown",
      "metadata": {
        "id": "7541ecc2-0393-4e0c-acc5-e1cc4c19965a"
      },
      "source": [
        "### Code generation\n"
      ]
    },
    {
      "cell_type": "markdown",
      "metadata": {
        "id": "76904576-eda2-4a13-8144-99295ece96eb"
      },
      "source": [
        "Here is an example of an SQL code generation agent. This agent is designed to generate SQL queries based on given descriptions. It interprets the requirements from your input and translates them into executable SQL code.\n"
      ]
    },
    {
      "cell_type": "code",
      "metadata": {
        "id": "b34db82d-1fb9-420d-8d14-9fc602236252"
      },
      "outputs": [],
      "source": [
        "description = \"\"\"\n",
        "        Retrieve the names and email addresses of all customers from the 'customers' table who have made a purchase in the last 30 days.\n",
        "        The table 'purchases' contains a column 'purchase_date'\n",
        "\"\"\"\n",
        "\n",
        "template = \"\"\"\n",
        "            Generate an SQL query based on the {description}\n",
        "\n",
        "            SQL Query:\n",
        "\n",
        "\"\"\"\n",
        "prompt = PromptTemplate.from_template(template)\n",
        "output_key = \"query\"\n",
        "\n",
        "llm_chain = LLMChain(prompt=prompt, llm=mixtral_llm, output_key=output_key)\n",
        "response = llm_chain.invoke(input = {\"description\":description})\n",
        "print(response[\"query\"])"
      ],
      "execution_count": null
    },
    {
      "cell_type": "markdown",
      "metadata": {
        "id": "6c2e68de-c7ee-40ff-81c7-c50b97d86f37"
      },
      "source": [
        "### Role playing\n"
      ]
    },
    {
      "cell_type": "markdown",
      "metadata": {
        "id": "1c5570bf-c479-43ab-b647-e0aabbcccbe7"
      },
      "source": [
        "You can also configure the LLM to assume specific roles as defined by us, enabling it to follow predetermined rules and behave like a task-oriented chatbot.\n",
        "\n",
        "For example, the code below configures the LLM to act as a game master. In this role, the LLM answers questions about games while maintaining an engaging and immersive tone, enhancing the user experience.\n"
      ]
    },
    {
      "cell_type": "markdown",
      "metadata": {
        "id": "90aa0c93-6a81-4893-8e9b-b611695f8d37"
      },
      "source": [
        "Run the following code to create the prompt template and create a LLMChian to wrap the prompt.\n"
      ]
    },
    {
      "cell_type": "code",
      "metadata": {
        "id": "08d13644-a659-4107-8f2c-c893c12c0c7e"
      },
      "outputs": [],
      "source": [
        "role = \"\"\"\n",
        "        game master\n",
        "\"\"\"\n",
        "\n",
        "tone = \"engaging and immersive\"\n",
        "\n",
        "template = \"\"\"\n",
        "            You are an expert {role}. I have this question {question}. I would like our conversation to be {tone}.\n",
        "\n",
        "            Answer:\n",
        "\n",
        "\"\"\"\n",
        "prompt = PromptTemplate.from_template(template)\n",
        "output_key = \"answer\"\n",
        "\n",
        "llm_chain = LLMChain(prompt=prompt, llm=mixtral_llm, output_key=output_key)"
      ],
      "execution_count": null
    },
    {
      "cell_type": "markdown",
      "metadata": {
        "id": "9d89bf66-2dda-4069-b500-b0cc46e5735c"
      },
      "source": [
        "The following code will create a game master chatbot that takes your questions as input and provides responses from the model.\n",
        "\n",
        "Run the code below to launch the bot.\n"
      ]
    },
    {
      "cell_type": "markdown",
      "metadata": {
        "id": "b51fc6f4-3553-4877-adcd-11c456d47c71"
      },
      "source": [
        "You can test the bot by asking the question, \"Who are you?\" The bot will respond with \"I am a game master,\" indicating it has assumed the role that you predefined.\n",
        "\n",
        "The function is written within a while loop, allowing continuous interaction. To exit the loop and terminate the conversation, type \"quit,\" \"exit,\" or \"bye\" into the input box.\n"
      ]
    },
    {
      "cell_type": "code",
      "metadata": {
        "id": "29004440-7e03-4cac-9ec1-d5b0f3c745c5"
      },
      "outputs": [],
      "source": [
        "while True:\n",
        "    query = input(\"Question: \")\n",
        "\n",
        "    if query.lower() in [\"quit\",\"exit\",\"bye\"]:\n",
        "        print(\"Answer: Goodbye!\")\n",
        "        break\n",
        "\n",
        "    response = llm_chain.invoke(input = {\"role\": role, \"question\": query, \"tone\": tone})\n",
        "\n",
        "    print(\"Answer: \", response[\"answer\"])"
      ],
      "execution_count": null
    },
    {
      "cell_type": "markdown",
      "metadata": {
        "id": "cfca6371-af83-4212-bce8-e1036dee56a9"
      },
      "source": [
        "Great! You finish the lab. Now let's take some exercises.\n"
      ]
    },
    {
      "cell_type": "markdown",
      "metadata": {
        "id": "ca7f7bbe-97f4-4047-828a-72d91ba8a746"
      },
      "source": [
        "# Exercises\n"
      ]
    },
    {
      "cell_type": "markdown",
      "metadata": {
        "id": "4ab38c4d-4d0d-4e0b-bc22-41a37775fbc6"
      },
      "source": [
        "### Exercise 1: Change parameters for the LLM\n"
      ]
    },
    {
      "cell_type": "markdown",
      "metadata": {
        "id": "7494526d-6e33-4fc3-b065-e7aa07f8f308"
      },
      "source": [
        "Experiment with changing the parameters of the LLM to observe how different settings impact the responses. Adjusting parameters such as `max_new_tokens`, `temperature`, or `top_p` can significantly alter the behavior of the model. Try different configurations to see how each variation influences the output.\n"
      ]
    },
    {
      "cell_type": "code",
      "metadata": {
        "id": "a3f53468-5926-409c-a6e6-fa35dcaa2af7"
      },
      "outputs": [],
      "source": [
        "# TODO"
      ],
      "execution_count": null
    },
    {
      "cell_type": "markdown",
      "metadata": {
        "id": "1449fedc-5347-4fa1-a49c-7dcad6c04cb3"
      },
      "source": [
        "<details>\n",
        "    <summary>Click here for Solution</summary>\n",
        "\n",
        "```python\n",
        "params = {\n",
        "    \"max_new_tokens\": 128,\n",
        "    \"min_new_tokens\": 100,\n",
        "    \"temperature\": 1,\n",
        "    \"top_p\": 0.1,\n",
        "    \"top_k\": 1\n",
        "}\n",
        "\n",
        "prompt = \"The wind is\"\n",
        "\n",
        "response = llm_model(prompt, params)\n",
        "print(response)\n",
        "\n",
        "```\n",
        "\n",
        "</details>\n"
      ]
    },
    {
      "cell_type": "markdown",
      "metadata": {
        "id": "3a925a26-3bd1-4b10-8a99-94a19ae1bab8"
      },
      "source": [
        "### Exercise 2: Observe how LLM thinks\n"
      ]
    },
    {
      "cell_type": "markdown",
      "metadata": {
        "id": "8e323fbe-cdfe-4cec-97f8-2ebbdf5aedc3"
      },
      "source": [
        "You can set `verbose=True` in the `LLMChain()` to observe the thought process of the LLM, gaining insights into how it formulates its responses. Can you make it any agent you created before to observe it?\n"
      ]
    },
    {
      "cell_type": "code",
      "metadata": {
        "id": "f0c5cbd6-c92d-420f-babc-0eb56a9b9706"
      },
      "outputs": [],
      "source": [
        "# TODO"
      ],
      "execution_count": null
    },
    {
      "cell_type": "markdown",
      "metadata": {
        "id": "4b530c12-a07e-4da3-ad01-f8eb8364caec"
      },
      "source": [
        "<details>\n",
        "    <summary>Click here for Solution</summary>\n",
        "\n",
        "```python\n",
        "content = \"\"\"\n",
        "        The solar system consists of the Sun, eight planets, their moons, dwarf planets, and smaller objects like asteroids and comets.\n",
        "        The inner planets—Mercury, Venus, Earth, and Mars—are rocky and solid.\n",
        "        The outer planets—Jupiter, Saturn, Uranus, and Neptune—are much larger and gaseous.\n",
        "\"\"\"\n",
        "\n",
        "question = \"Which planets in the solar system are rocky and solid?\"\n",
        "\n",
        "template = \"\"\"\n",
        "            Answer the {question} based on the {content}.\n",
        "            Respond \"Unsure about answer\" if not sure about the answer.\n",
        "            \n",
        "            Answer:\n",
        "            \n",
        "\"\"\"\n",
        "prompt = PromptTemplate.from_template(template)\n",
        "output_key = \"answer\"\n",
        "\n",
        "llm_chain = LLMChain(prompt=prompt, llm=mixtral_llm, output_key=output_key, verbose=True)\n",
        "response = llm_chain.invoke(input = {\"question\":question ,\"content\": content})\n",
        "print(response[\"answer\"])\n",
        "\n",
        "```\n",
        "\n",
        "</details>\n"
      ]
    },
    {
      "cell_type": "markdown",
      "metadata": {
        "id": "11b1114d-10f9-4024-9883-79548b2b0459"
      },
      "source": [
        "### Exercise 3: Revise the text classification agent to one-shot learning\n"
      ]
    },
    {
      "cell_type": "markdown",
      "metadata": {
        "id": "10b66667-17a7-4977-8b0b-d2e9ba792b87"
      },
      "source": [
        "You were using zero-shot learning when you created the text classification agent. Can you revise it to use one-shot learning?\n"
      ]
    },
    {
      "cell_type": "code",
      "metadata": {
        "id": "a82b6ae8-8d20-4fbd-8ffe-f65733ca8b8f"
      },
      "outputs": [],
      "source": [
        "# TODO"
      ],
      "execution_count": null
    },
    {
      "cell_type": "markdown",
      "metadata": {
        "id": "57b60a40-a67a-49a8-9c98-014d7d3314b8"
      },
      "source": [
        "<details>\n",
        "    <summary>Click here for Solution</summary>\n",
        "\n",
        "```python\n",
        "example_text = \"\"\"\n",
        "               Last week's book fair was a delightful gathering of authors and readers, featuring discussions and book signings.\n",
        "               \"\"\"\n",
        "\n",
        "example_category = \"Literature\"\n",
        "\n",
        "text = \"\"\"\n",
        "       The concert last night was an exhilarating experience with outstanding performances by all artists.\n",
        "       \"\"\"\n",
        "\n",
        "categories = \"Entertainment, Food and Dining, Technology, Literature, Music.\"\n",
        "\n",
        "template = \"\"\"\n",
        "           Example:\n",
        "           Text: {example_text}\n",
        "           Category: {example_category}\n",
        "\n",
        "           Now, classify the following text into one of the specified categories: {categories}\n",
        "           \n",
        "           Text: {text}\n",
        "           \n",
        "           Category:\n",
        "           \n",
        "           \"\"\"\n",
        "prompt = PromptTemplate.from_template(template)\n",
        "output_key = \"category\"\n",
        "\n",
        "llm_chain = LLMChain(prompt=prompt, llm=mixtral_llm, output_key=output_key)\n",
        "response = llm_chain.invoke(input = {\"example_text\": example_text, \"example_category\":example_category ,\"categories\": categories, \"text\":text})\n",
        "print(response[\"category\"])\n",
        "\n",
        "```\n",
        "\n",
        "</details>\n"
      ]
    },
    {
      "cell_type": "markdown",
      "metadata": {
        "id": "c4c1c5ee-1c61-48bf-8440-ff619aceecb3"
      },
      "source": [
        "## Authors\n"
      ]
    },
    {
      "cell_type": "markdown",
      "metadata": {
        "id": "1cbeeee1-5242-47b2-8bc4-018cc0b99153"
      },
      "source": [
        "[Kang Wang](https://author.skills.network/instructors/kang_wang)\n",
        "\n",
        "Kang Wang is a Data Scientist in IBM. He is also a PhD Candidate in the University of Waterloo.\n"
      ]
    },
    {
      "cell_type": "markdown",
      "metadata": {
        "id": "7e5d91fb-d2fd-46e5-995e-5c6d3867a58f"
      },
      "source": [
        "© Copyright IBM Corporation. All rights reserved.\n"
      ]
    }
  ],
  "metadata": {
    "kernelspec": {
      "display_name": "Python 3",
      "name": "python3"
    },
    "language_info": {
      "codemirror_mode": {
        "name": "ipython",
        "version": 3
      },
      "file_extension": ".py",
      "mimetype": "text/x-python",
      "name": "python",
      "nbconvert_exporter": "python",
      "pygments_lexer": "ipython3",
      "version": "3.11.9"
    },
    "prev_pub_hash": "3cd9d8693a1fb2dfa1525107bea3b904b7669a1f05c2ade1610dc7eea60ed3d5",
    "colab": {
      "provenance": [],
      "include_colab_link": true
    }
  },
  "nbformat": 4,
  "nbformat_minor": 0
}